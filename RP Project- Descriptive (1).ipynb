{
 "cells": [
  {
   "cell_type": "code",
   "execution_count": 1,
   "metadata": {},
   "outputs": [],
   "source": [
    "# Importing the required libraries\n",
    "import numpy as np\n",
    "import pandas as pd\n",
    "import warnings\n",
    "warnings.filterwarnings(\"ignore\", message=\"numpy.dtype size changed\")\n",
    "warnings.filterwarnings(\"ignore\", message=\"numpy.ufunc size changed\")\n",
    "import numpy as np\n",
    "import pandas as pd\n",
    "from matplotlib import pyplot as plt\n",
    "plt.style.use('ggplot')\n",
    "import seaborn as sns\n",
    "%matplotlib inline\n",
    "from collections import Counter\n",
    "import re"
   ]
  },
  {
   "cell_type": "code",
   "execution_count": 2,
   "metadata": {},
   "outputs": [],
   "source": [
    "data = pd.read_csv(\"C:\\\\Users\\\\rushy\\\\Documents\\\\Fall2019\\\\RandPython Proj\\\\Final_Deliverable\\\\Final_dataset.csv\", index_col=0)"
   ]
  },
  {
   "cell_type": "code",
   "execution_count": 309,
   "metadata": {},
   "outputs": [
    {
     "data": {
      "text/html": [
       "<div>\n",
       "<style scoped>\n",
       "    .dataframe tbody tr th:only-of-type {\n",
       "        vertical-align: middle;\n",
       "    }\n",
       "\n",
       "    .dataframe tbody tr th {\n",
       "        vertical-align: top;\n",
       "    }\n",
       "\n",
       "    .dataframe thead th {\n",
       "        text-align: right;\n",
       "    }\n",
       "</style>\n",
       "<table border=\"1\" class=\"dataframe\">\n",
       "  <thead>\n",
       "    <tr style=\"text-align: right;\">\n",
       "      <th></th>\n",
       "      <th>job_id</th>\n",
       "      <th>rating</th>\n",
       "      <th>position</th>\n",
       "      <th>company</th>\n",
       "      <th>job_city</th>\n",
       "      <th>job_state_code</th>\n",
       "      <th>sal_low</th>\n",
       "      <th>sal_high</th>\n",
       "      <th>link</th>\n",
       "      <th>description</th>\n",
       "      <th>hq_city</th>\n",
       "      <th>hq_state_code</th>\n",
       "      <th>size</th>\n",
       "      <th>industry</th>\n",
       "    </tr>\n",
       "  </thead>\n",
       "  <tbody>\n",
       "    <tr>\n",
       "      <td>371</td>\n",
       "      <td>3261340591</td>\n",
       "      <td>3.1</td>\n",
       "      <td>data scientist (nlp)</td>\n",
       "      <td>Prognos</td>\n",
       "      <td>New York</td>\n",
       "      <td>NY</td>\n",
       "      <td>101.0</td>\n",
       "      <td>142.0</td>\n",
       "      <td>https://www.glassdoor.com/partner/jobListing.h...</td>\n",
       "      <td>Prognos is an NYC-based healthcare startup who...</td>\n",
       "      <td>New York</td>\n",
       "      <td>NY</td>\n",
       "      <td>200</td>\n",
       "      <td>Health Care Services &amp; Hospitals</td>\n",
       "    </tr>\n",
       "    <tr>\n",
       "      <td>162</td>\n",
       "      <td>3304548552</td>\n",
       "      <td>3.3</td>\n",
       "      <td>data engineer</td>\n",
       "      <td>Remedy BPCI Partners, LLC.</td>\n",
       "      <td>New York</td>\n",
       "      <td>NY</td>\n",
       "      <td>82.0</td>\n",
       "      <td>112.0</td>\n",
       "      <td>https://www.glassdoor.com/partner/jobListing.h...</td>\n",
       "      <td>How will this role have an impact?\\n\\nAs a mem...</td>\n",
       "      <td>Norwalk</td>\n",
       "      <td>CT</td>\n",
       "      <td>500</td>\n",
       "      <td>Health Care Services &amp; Hospitals</td>\n",
       "    </tr>\n",
       "    <tr>\n",
       "      <td>152</td>\n",
       "      <td>3347133133</td>\n",
       "      <td>4.3</td>\n",
       "      <td>data engineer</td>\n",
       "      <td>Medidata Solutions</td>\n",
       "      <td>New York</td>\n",
       "      <td>NY</td>\n",
       "      <td>112.0</td>\n",
       "      <td>150.0</td>\n",
       "      <td>https://www.glassdoor.com/partner/jobListing.h...</td>\n",
       "      <td>Medidata: Conquering Diseases Together\\n\\nWHAT...</td>\n",
       "      <td>New York</td>\n",
       "      <td>NY</td>\n",
       "      <td>5000</td>\n",
       "      <td>Enterprise Software &amp; Network Solutions</td>\n",
       "    </tr>\n",
       "    <tr>\n",
       "      <td>381</td>\n",
       "      <td>3305951022</td>\n",
       "      <td>3.8</td>\n",
       "      <td>data scientist</td>\n",
       "      <td>Albert Einstein College of Medicine</td>\n",
       "      <td>Bronx</td>\n",
       "      <td>NY</td>\n",
       "      <td>70.0</td>\n",
       "      <td>103.0</td>\n",
       "      <td>https://www.glassdoor.com/partner/jobListing.h...</td>\n",
       "      <td>POSITION RESPONSIBILITIES\\n\\n\\nResponsibilitie...</td>\n",
       "      <td>Bronx</td>\n",
       "      <td>NY</td>\n",
       "      <td>5000</td>\n",
       "      <td>Colleges &amp; Universities</td>\n",
       "    </tr>\n",
       "    <tr>\n",
       "      <td>2</td>\n",
       "      <td>3284284037</td>\n",
       "      <td>2.7</td>\n",
       "      <td>data engineer</td>\n",
       "      <td>COTA</td>\n",
       "      <td>Boston</td>\n",
       "      <td>MA</td>\n",
       "      <td>86.0</td>\n",
       "      <td>117.0</td>\n",
       "      <td>https://www.glassdoor.com/partner/jobListing.h...</td>\n",
       "      <td>POSITION: DATA ENGINEER\\n\\nABOUT COTA\\nCOTA wa...</td>\n",
       "      <td>New York</td>\n",
       "      <td>NY</td>\n",
       "      <td>200</td>\n",
       "      <td>Computer Hardware &amp; Software</td>\n",
       "    </tr>\n",
       "  </tbody>\n",
       "</table>\n",
       "</div>"
      ],
      "text/plain": [
       "         job_id  rating              position  \\\n",
       "371  3261340591     3.1  data scientist (nlp)   \n",
       "162  3304548552     3.3         data engineer   \n",
       "152  3347133133     4.3         data engineer   \n",
       "381  3305951022     3.8        data scientist   \n",
       "2    3284284037     2.7         data engineer   \n",
       "\n",
       "                                 company  job_city job_state_code  sal_low  \\\n",
       "371                              Prognos  New York             NY    101.0   \n",
       "162           Remedy BPCI Partners, LLC.  New York             NY     82.0   \n",
       "152                   Medidata Solutions  New York             NY    112.0   \n",
       "381  Albert Einstein College of Medicine     Bronx             NY     70.0   \n",
       "2                                   COTA    Boston             MA     86.0   \n",
       "\n",
       "     sal_high                                               link  \\\n",
       "371     142.0  https://www.glassdoor.com/partner/jobListing.h...   \n",
       "162     112.0  https://www.glassdoor.com/partner/jobListing.h...   \n",
       "152     150.0  https://www.glassdoor.com/partner/jobListing.h...   \n",
       "381     103.0  https://www.glassdoor.com/partner/jobListing.h...   \n",
       "2       117.0  https://www.glassdoor.com/partner/jobListing.h...   \n",
       "\n",
       "                                           description   hq_city  \\\n",
       "371  Prognos is an NYC-based healthcare startup who...  New York   \n",
       "162  How will this role have an impact?\\n\\nAs a mem...   Norwalk   \n",
       "152  Medidata: Conquering Diseases Together\\n\\nWHAT...  New York   \n",
       "381  POSITION RESPONSIBILITIES\\n\\n\\nResponsibilitie...     Bronx   \n",
       "2    POSITION: DATA ENGINEER\\n\\nABOUT COTA\\nCOTA wa...  New York   \n",
       "\n",
       "    hq_state_code  size                                 industry  \n",
       "371            NY   200         Health Care Services & Hospitals  \n",
       "162            CT   500         Health Care Services & Hospitals  \n",
       "152            NY  5000  Enterprise Software & Network Solutions  \n",
       "381            NY  5000                  Colleges & Universities  \n",
       "2              NY   200             Computer Hardware & Software  "
      ]
     },
     "execution_count": 309,
     "metadata": {},
     "output_type": "execute_result"
    }
   ],
   "source": [
    "data.sample(5)"
   ]
  },
  {
   "cell_type": "code",
   "execution_count": 310,
   "metadata": {},
   "outputs": [],
   "source": [
    "data = data.drop(['link'], axis =1)"
   ]
  },
  {
   "cell_type": "code",
   "execution_count": 311,
   "metadata": {},
   "outputs": [
    {
     "data": {
      "text/html": [
       "<div>\n",
       "<style scoped>\n",
       "    .dataframe tbody tr th:only-of-type {\n",
       "        vertical-align: middle;\n",
       "    }\n",
       "\n",
       "    .dataframe tbody tr th {\n",
       "        vertical-align: top;\n",
       "    }\n",
       "\n",
       "    .dataframe thead th {\n",
       "        text-align: right;\n",
       "    }\n",
       "</style>\n",
       "<table border=\"1\" class=\"dataframe\">\n",
       "  <thead>\n",
       "    <tr style=\"text-align: right;\">\n",
       "      <th></th>\n",
       "      <th>job_id</th>\n",
       "      <th>rating</th>\n",
       "      <th>position</th>\n",
       "      <th>company</th>\n",
       "      <th>job_city</th>\n",
       "      <th>job_state_code</th>\n",
       "      <th>sal_low</th>\n",
       "      <th>sal_high</th>\n",
       "      <th>description</th>\n",
       "      <th>hq_city</th>\n",
       "      <th>hq_state_code</th>\n",
       "      <th>size</th>\n",
       "      <th>industry</th>\n",
       "    </tr>\n",
       "  </thead>\n",
       "  <tbody>\n",
       "    <tr>\n",
       "      <td>560</td>\n",
       "      <td>3252920071</td>\n",
       "      <td>3.6</td>\n",
       "      <td>manager, data science</td>\n",
       "      <td>Blink Health</td>\n",
       "      <td>New York</td>\n",
       "      <td>NY</td>\n",
       "      <td>59.0</td>\n",
       "      <td>100.0</td>\n",
       "      <td>Blink Health is a well-funded healthcare techn...</td>\n",
       "      <td>New York</td>\n",
       "      <td>NY</td>\n",
       "      <td>500</td>\n",
       "      <td>Health Care Services &amp; Hospitals</td>\n",
       "    </tr>\n",
       "    <tr>\n",
       "      <td>80</td>\n",
       "      <td>3379783823</td>\n",
       "      <td>4.0</td>\n",
       "      <td>data analyst</td>\n",
       "      <td>WalkerHealthcareIT</td>\n",
       "      <td>Detroit</td>\n",
       "      <td>MI</td>\n",
       "      <td>NaN</td>\n",
       "      <td>NaN</td>\n",
       "      <td>DATA ANALYST, DETROIT, MICHIGAN\\n\\nWalkerHealt...</td>\n",
       "      <td>Bloomfield Hills</td>\n",
       "      <td>MI</td>\n",
       "      <td>200</td>\n",
       "      <td>Staffing &amp; Outsourcing</td>\n",
       "    </tr>\n",
       "    <tr>\n",
       "      <td>220</td>\n",
       "      <td>3325142817</td>\n",
       "      <td>4.1</td>\n",
       "      <td>data engineer</td>\n",
       "      <td>Oloop Technology Solutions</td>\n",
       "      <td>New York</td>\n",
       "      <td>NY</td>\n",
       "      <td>NaN</td>\n",
       "      <td>NaN</td>\n",
       "      <td>Jobtitle: Data Engineer\\nLocation: New York, N...</td>\n",
       "      <td>Aurora</td>\n",
       "      <td>IL</td>\n",
       "      <td>200</td>\n",
       "      <td>Staffing &amp; Outsourcing</td>\n",
       "    </tr>\n",
       "    <tr>\n",
       "      <td>182</td>\n",
       "      <td>3250657259</td>\n",
       "      <td>4.0</td>\n",
       "      <td>data engineer</td>\n",
       "      <td>Knotel</td>\n",
       "      <td>New York</td>\n",
       "      <td>NY</td>\n",
       "      <td>88.0</td>\n",
       "      <td>122.0</td>\n",
       "      <td>Knotel is seeking an experienced Data Engineer...</td>\n",
       "      <td>New York</td>\n",
       "      <td>NY</td>\n",
       "      <td>500</td>\n",
       "      <td>Real Estate</td>\n",
       "    </tr>\n",
       "    <tr>\n",
       "      <td>510</td>\n",
       "      <td>3205805597</td>\n",
       "      <td>3.0</td>\n",
       "      <td>rmbs data scientist</td>\n",
       "      <td>London Stock Exchange Group</td>\n",
       "      <td>New York</td>\n",
       "      <td>NY</td>\n",
       "      <td>85.0</td>\n",
       "      <td>124.0</td>\n",
       "      <td>FTSE Russell / Yield Book prides itself in set...</td>\n",
       "      <td>London</td>\n",
       "      <td>United Kingdom</td>\n",
       "      <td>5000</td>\n",
       "      <td>Stock Exchanges</td>\n",
       "    </tr>\n",
       "  </tbody>\n",
       "</table>\n",
       "</div>"
      ],
      "text/plain": [
       "         job_id  rating               position                      company  \\\n",
       "560  3252920071     3.6  manager, data science                 Blink Health   \n",
       "80   3379783823     4.0           data analyst           WalkerHealthcareIT   \n",
       "220  3325142817     4.1          data engineer   Oloop Technology Solutions   \n",
       "182  3250657259     4.0          data engineer                       Knotel   \n",
       "510  3205805597     3.0    rmbs data scientist  London Stock Exchange Group   \n",
       "\n",
       "     job_city job_state_code  sal_low  sal_high  \\\n",
       "560  New York             NY     59.0     100.0   \n",
       "80    Detroit             MI      NaN       NaN   \n",
       "220  New York             NY      NaN       NaN   \n",
       "182  New York             NY     88.0     122.0   \n",
       "510  New York             NY     85.0     124.0   \n",
       "\n",
       "                                           description           hq_city  \\\n",
       "560  Blink Health is a well-funded healthcare techn...          New York   \n",
       "80   DATA ANALYST, DETROIT, MICHIGAN\\n\\nWalkerHealt...  Bloomfield Hills   \n",
       "220  Jobtitle: Data Engineer\\nLocation: New York, N...            Aurora   \n",
       "182  Knotel is seeking an experienced Data Engineer...          New York   \n",
       "510  FTSE Russell / Yield Book prides itself in set...            London   \n",
       "\n",
       "      hq_state_code  size                          industry  \n",
       "560              NY   500  Health Care Services & Hospitals  \n",
       "80               MI   200            Staffing & Outsourcing  \n",
       "220              IL   200            Staffing & Outsourcing  \n",
       "182              NY   500                       Real Estate  \n",
       "510  United Kingdom  5000                   Stock Exchanges  "
      ]
     },
     "execution_count": 311,
     "metadata": {},
     "output_type": "execute_result"
    }
   ],
   "source": [
    "data.sample(5)"
   ]
  },
  {
   "cell_type": "code",
   "execution_count": 312,
   "metadata": {},
   "outputs": [
    {
     "data": {
      "text/plain": [
       "True"
      ]
     },
     "execution_count": 312,
     "metadata": {},
     "output_type": "execute_result"
    }
   ],
   "source": [
    "data.isnull().values.any()"
   ]
  },
  {
   "cell_type": "code",
   "execution_count": 313,
   "metadata": {},
   "outputs": [
    {
     "data": {
      "text/plain": [
       "job_id              0\n",
       "rating              0\n",
       "position            0\n",
       "company             0\n",
       "job_city           32\n",
       "job_state_code     32\n",
       "sal_low           175\n",
       "sal_high          175\n",
       "description         0\n",
       "hq_city             0\n",
       "hq_state_code       0\n",
       "size                0\n",
       "industry            0\n",
       "dtype: int64"
      ]
     },
     "execution_count": 313,
     "metadata": {},
     "output_type": "execute_result"
    }
   ],
   "source": [
    "data.isnull().sum()"
   ]
  },
  {
   "cell_type": "code",
   "execution_count": 314,
   "metadata": {},
   "outputs": [],
   "source": [
    "data_null=pd.isnull(data['job_state_code'])"
   ]
  },
  {
   "cell_type": "code",
   "execution_count": 315,
   "metadata": {},
   "outputs": [
    {
     "data": {
      "text/html": [
       "<div>\n",
       "<style scoped>\n",
       "    .dataframe tbody tr th:only-of-type {\n",
       "        vertical-align: middle;\n",
       "    }\n",
       "\n",
       "    .dataframe tbody tr th {\n",
       "        vertical-align: top;\n",
       "    }\n",
       "\n",
       "    .dataframe thead th {\n",
       "        text-align: right;\n",
       "    }\n",
       "</style>\n",
       "<table border=\"1\" class=\"dataframe\">\n",
       "  <thead>\n",
       "    <tr style=\"text-align: right;\">\n",
       "      <th></th>\n",
       "      <th>job_id</th>\n",
       "      <th>rating</th>\n",
       "      <th>position</th>\n",
       "      <th>company</th>\n",
       "      <th>job_city</th>\n",
       "      <th>job_state_code</th>\n",
       "      <th>sal_low</th>\n",
       "      <th>sal_high</th>\n",
       "      <th>description</th>\n",
       "      <th>hq_city</th>\n",
       "      <th>hq_state_code</th>\n",
       "      <th>size</th>\n",
       "      <th>industry</th>\n",
       "    </tr>\n",
       "  </thead>\n",
       "  <tbody>\n",
       "    <tr>\n",
       "      <td>28</td>\n",
       "      <td>3318225561</td>\n",
       "      <td>3.8</td>\n",
       "      <td>data engineer</td>\n",
       "      <td>Capital One</td>\n",
       "      <td>NaN</td>\n",
       "      <td>NaN</td>\n",
       "      <td>90.0</td>\n",
       "      <td>123.0</td>\n",
       "      <td>1 Broadway (21026), United States of America, ...</td>\n",
       "      <td>Mc Lean</td>\n",
       "      <td>VA</td>\n",
       "      <td>10000</td>\n",
       "      <td>Banks &amp; Credit Unions</td>\n",
       "    </tr>\n",
       "    <tr>\n",
       "      <td>66</td>\n",
       "      <td>3365248211</td>\n",
       "      <td>3.6</td>\n",
       "      <td>data engineer</td>\n",
       "      <td>Comau LLC</td>\n",
       "      <td>NaN</td>\n",
       "      <td>NaN</td>\n",
       "      <td>65.0</td>\n",
       "      <td>90.0</td>\n",
       "      <td>Comau LLC is now creating a new team focused o...</td>\n",
       "      <td>Grugliasco</td>\n",
       "      <td>Italy</td>\n",
       "      <td>10000</td>\n",
       "      <td>Industrial Manufacturing</td>\n",
       "    </tr>\n",
       "    <tr>\n",
       "      <td>73</td>\n",
       "      <td>3317344619</td>\n",
       "      <td>2.8</td>\n",
       "      <td>software engineer</td>\n",
       "      <td>Mitsubishi Electric</td>\n",
       "      <td>NaN</td>\n",
       "      <td>NaN</td>\n",
       "      <td>59.0</td>\n",
       "      <td>103.0</td>\n",
       "      <td>Mitsubishi Electric Automotive America creates...</td>\n",
       "      <td>Mason</td>\n",
       "      <td>OH</td>\n",
       "      <td>5000</td>\n",
       "      <td>Transportation Equipment Manufacturing</td>\n",
       "    </tr>\n",
       "    <tr>\n",
       "      <td>77</td>\n",
       "      <td>3349197179</td>\n",
       "      <td>0.0</td>\n",
       "      <td>data engineer</td>\n",
       "      <td>Global Information Technology</td>\n",
       "      <td>NaN</td>\n",
       "      <td>NaN</td>\n",
       "      <td>60.0</td>\n",
       "      <td>84.0</td>\n",
       "      <td>Job Code ATL - 341\\nJob Title Data Engineer\\nL...</td>\n",
       "      <td>Tampa</td>\n",
       "      <td>FL</td>\n",
       "      <td>200</td>\n",
       "      <td>IT Services</td>\n",
       "    </tr>\n",
       "    <tr>\n",
       "      <td>130</td>\n",
       "      <td>3391739330</td>\n",
       "      <td>3.3</td>\n",
       "      <td>software engineer</td>\n",
       "      <td>Amtec Inc.</td>\n",
       "      <td>NaN</td>\n",
       "      <td>NaN</td>\n",
       "      <td>50.0</td>\n",
       "      <td>87.0</td>\n",
       "      <td>Job Description\\nJOB DESCRIPTION\\n\\nThe candid...</td>\n",
       "      <td>Elgin</td>\n",
       "      <td>IL</td>\n",
       "      <td>500</td>\n",
       "      <td>Industrial Manufacturing</td>\n",
       "    </tr>\n",
       "    <tr>\n",
       "      <td>143</td>\n",
       "      <td>3345597620</td>\n",
       "      <td>3.5</td>\n",
       "      <td>entry level software development engineer 2019...</td>\n",
       "      <td>Audible</td>\n",
       "      <td>NaN</td>\n",
       "      <td>NaN</td>\n",
       "      <td>100.0</td>\n",
       "      <td>131.0</td>\n",
       "      <td>Come and be part of a great Audible team on th...</td>\n",
       "      <td>Newark</td>\n",
       "      <td>NJ</td>\n",
       "      <td>5000</td>\n",
       "      <td>Motion Picture Production &amp; Distribution</td>\n",
       "    </tr>\n",
       "    <tr>\n",
       "      <td>177</td>\n",
       "      <td>3319618262</td>\n",
       "      <td>3.2</td>\n",
       "      <td>data engineer</td>\n",
       "      <td>Sapphire Digital</td>\n",
       "      <td>NaN</td>\n",
       "      <td>NaN</td>\n",
       "      <td>75.0</td>\n",
       "      <td>104.0</td>\n",
       "      <td>Sapphire Digital seeks a dynamic and driven mi...</td>\n",
       "      <td>Lyndhurst</td>\n",
       "      <td>NJ</td>\n",
       "      <td>500</td>\n",
       "      <td>Internet</td>\n",
       "    </tr>\n",
       "    <tr>\n",
       "      <td>196</td>\n",
       "      <td>3388042390</td>\n",
       "      <td>3.2</td>\n",
       "      <td>data engineer</td>\n",
       "      <td>Caresoft</td>\n",
       "      <td>NaN</td>\n",
       "      <td>NaN</td>\n",
       "      <td>80.0</td>\n",
       "      <td>110.0</td>\n",
       "      <td>Title: Hadoop Developer/Data EngineerLocation:...</td>\n",
       "      <td>Middlesex</td>\n",
       "      <td>NJ</td>\n",
       "      <td>50</td>\n",
       "      <td>Computer Hardware &amp; Software</td>\n",
       "    </tr>\n",
       "    <tr>\n",
       "      <td>231</td>\n",
       "      <td>3380009451</td>\n",
       "      <td>5.0</td>\n",
       "      <td>data engineer</td>\n",
       "      <td>Techlink, Inc.</td>\n",
       "      <td>NaN</td>\n",
       "      <td>NaN</td>\n",
       "      <td>108.0</td>\n",
       "      <td>146.0</td>\n",
       "      <td>Job Title: Sr. Data EngineerLocation: Northern...</td>\n",
       "      <td>Atlanta</td>\n",
       "      <td>GA</td>\n",
       "      <td>50</td>\n",
       "      <td>Staffing &amp; Outsourcing</td>\n",
       "    </tr>\n",
       "    <tr>\n",
       "      <td>343</td>\n",
       "      <td>3227144875</td>\n",
       "      <td>3.4</td>\n",
       "      <td>data scientist</td>\n",
       "      <td>United Technologies</td>\n",
       "      <td>NaN</td>\n",
       "      <td>NaN</td>\n",
       "      <td>92.0</td>\n",
       "      <td>133.0</td>\n",
       "      <td>Date Posted:\\n\\n2019-05-08-07:00\\n\\nCountry:\\n...</td>\n",
       "      <td>Farmington</td>\n",
       "      <td>CT</td>\n",
       "      <td>10000</td>\n",
       "      <td>Aerospace &amp; Defense</td>\n",
       "    </tr>\n",
       "    <tr>\n",
       "      <td>352</td>\n",
       "      <td>3351721043</td>\n",
       "      <td>3.5</td>\n",
       "      <td>data scientist</td>\n",
       "      <td>Prudential</td>\n",
       "      <td>NaN</td>\n",
       "      <td>NaN</td>\n",
       "      <td>79.0</td>\n",
       "      <td>117.0</td>\n",
       "      <td>Data Scientists are tasked with mining our ind...</td>\n",
       "      <td>Newark</td>\n",
       "      <td>NJ</td>\n",
       "      <td>10000</td>\n",
       "      <td>Investment Banking &amp; Asset Management</td>\n",
       "    </tr>\n",
       "    <tr>\n",
       "      <td>362</td>\n",
       "      <td>3304513767</td>\n",
       "      <td>3.5</td>\n",
       "      <td>data scientist</td>\n",
       "      <td>Audible</td>\n",
       "      <td>NaN</td>\n",
       "      <td>NaN</td>\n",
       "      <td>103.0</td>\n",
       "      <td>143.0</td>\n",
       "      <td>Audible, an Amazon company, is the leading pro...</td>\n",
       "      <td>Newark</td>\n",
       "      <td>NJ</td>\n",
       "      <td>5000</td>\n",
       "      <td>Motion Picture Production &amp; Distribution</td>\n",
       "    </tr>\n",
       "    <tr>\n",
       "      <td>368</td>\n",
       "      <td>3353364228</td>\n",
       "      <td>4.3</td>\n",
       "      <td>data scientist</td>\n",
       "      <td>InvenTech Info</td>\n",
       "      <td>NaN</td>\n",
       "      <td>NaN</td>\n",
       "      <td>NaN</td>\n",
       "      <td>NaN</td>\n",
       "      <td>Job Title: Data Scientist\\n\\nLocation: New Jer...</td>\n",
       "      <td>Bengaluru</td>\n",
       "      <td>India</td>\n",
       "      <td>500</td>\n",
       "      <td>IT Services</td>\n",
       "    </tr>\n",
       "    <tr>\n",
       "      <td>376</td>\n",
       "      <td>3347385784</td>\n",
       "      <td>3.5</td>\n",
       "      <td>data scientist, rpsg</td>\n",
       "      <td>New York City Department of Education .</td>\n",
       "      <td>NaN</td>\n",
       "      <td>NaN</td>\n",
       "      <td>76.0</td>\n",
       "      <td>117.0</td>\n",
       "      <td>This title is in a civil service competitive c...</td>\n",
       "      <td>New York</td>\n",
       "      <td>NY</td>\n",
       "      <td>10000</td>\n",
       "      <td>Municipal Governments</td>\n",
       "    </tr>\n",
       "    <tr>\n",
       "      <td>395</td>\n",
       "      <td>3366389666</td>\n",
       "      <td>3.9</td>\n",
       "      <td>data scientist</td>\n",
       "      <td>Unilever</td>\n",
       "      <td>NaN</td>\n",
       "      <td>NaN</td>\n",
       "      <td>84.0</td>\n",
       "      <td>125.0</td>\n",
       "      <td>Background &amp; Purpose of the Job\\n\\nAs a Data S...</td>\n",
       "      <td>London</td>\n",
       "      <td>United Kingdom</td>\n",
       "      <td>10000</td>\n",
       "      <td>Consumer Products Manufacturing</td>\n",
       "    </tr>\n",
       "    <tr>\n",
       "      <td>398</td>\n",
       "      <td>3383167200</td>\n",
       "      <td>4.0</td>\n",
       "      <td>data scientist (nlp)</td>\n",
       "      <td>Apidel Technologies</td>\n",
       "      <td>NaN</td>\n",
       "      <td>NaN</td>\n",
       "      <td>101.0</td>\n",
       "      <td>148.0</td>\n",
       "      <td>One of top 10 Analytics Consulting and Operati...</td>\n",
       "      <td>Rolling Meadows</td>\n",
       "      <td>IL</td>\n",
       "      <td>1000</td>\n",
       "      <td>Staffing &amp; Outsourcing</td>\n",
       "    </tr>\n",
       "    <tr>\n",
       "      <td>399</td>\n",
       "      <td>3368760213</td>\n",
       "      <td>3.9</td>\n",
       "      <td>data scientist</td>\n",
       "      <td>Bayer</td>\n",
       "      <td>NaN</td>\n",
       "      <td>NaN</td>\n",
       "      <td>104.0</td>\n",
       "      <td>154.0</td>\n",
       "      <td>Bayer is a global enterprise with core compete...</td>\n",
       "      <td>Leverkusen</td>\n",
       "      <td>Germany</td>\n",
       "      <td>10000</td>\n",
       "      <td>Biotech &amp; Pharmaceuticals</td>\n",
       "    </tr>\n",
       "    <tr>\n",
       "      <td>404</td>\n",
       "      <td>3372442313</td>\n",
       "      <td>4.8</td>\n",
       "      <td>data scientist</td>\n",
       "      <td>Princeton IT Services</td>\n",
       "      <td>NaN</td>\n",
       "      <td>NaN</td>\n",
       "      <td>90.0</td>\n",
       "      <td>134.0</td>\n",
       "      <td>We are conducting search for Data Scientist fo...</td>\n",
       "      <td>Hamilton</td>\n",
       "      <td>NJ</td>\n",
       "      <td>50</td>\n",
       "      <td>Computer Hardware &amp; Software</td>\n",
       "    </tr>\n",
       "    <tr>\n",
       "      <td>414</td>\n",
       "      <td>3344992472</td>\n",
       "      <td>3.9</td>\n",
       "      <td>data scientist - actimize division</td>\n",
       "      <td>NICE Actimize</td>\n",
       "      <td>NaN</td>\n",
       "      <td>NaN</td>\n",
       "      <td>94.0</td>\n",
       "      <td>128.0</td>\n",
       "      <td>Position: Data Scientist\\n\\nLocation: Hoboken/...</td>\n",
       "      <td>Hoboken</td>\n",
       "      <td>NJ</td>\n",
       "      <td>1000</td>\n",
       "      <td>Computer Hardware &amp; Software</td>\n",
       "    </tr>\n",
       "    <tr>\n",
       "      <td>433</td>\n",
       "      <td>3380915652</td>\n",
       "      <td>3.4</td>\n",
       "      <td>Senior Principal Data Scientist</td>\n",
       "      <td>verisk analytics</td>\n",
       "      <td>NaN</td>\n",
       "      <td>NaN</td>\n",
       "      <td>124.0</td>\n",
       "      <td>172.0</td>\n",
       "      <td>Company Description\\n\\nISO, a Verisk business,...</td>\n",
       "      <td>Jersey City</td>\n",
       "      <td>NJ</td>\n",
       "      <td>10000</td>\n",
       "      <td>Research &amp; Development</td>\n",
       "    </tr>\n",
       "    <tr>\n",
       "      <td>434</td>\n",
       "      <td>3371180768</td>\n",
       "      <td>5.0</td>\n",
       "      <td>data scientist</td>\n",
       "      <td>HR Acuity</td>\n",
       "      <td>NaN</td>\n",
       "      <td>NaN</td>\n",
       "      <td>NaN</td>\n",
       "      <td>NaN</td>\n",
       "      <td>Job Description\\nAs Data Scientist, you will b...</td>\n",
       "      <td>Florham Park</td>\n",
       "      <td>NJ</td>\n",
       "      <td>50</td>\n",
       "      <td>Internet</td>\n",
       "    </tr>\n",
       "    <tr>\n",
       "      <td>438</td>\n",
       "      <td>3374510907</td>\n",
       "      <td>2.5</td>\n",
       "      <td>medical data scientist - clinical safety data ...</td>\n",
       "      <td>Eisai Inc.</td>\n",
       "      <td>NaN</td>\n",
       "      <td>NaN</td>\n",
       "      <td>96.0</td>\n",
       "      <td>139.0</td>\n",
       "      <td>Eisai Inc. was established in 1995 and began m...</td>\n",
       "      <td>Woodcliff Lake</td>\n",
       "      <td>NJ</td>\n",
       "      <td>500</td>\n",
       "      <td>Biotech &amp; Pharmaceuticals</td>\n",
       "    </tr>\n",
       "    <tr>\n",
       "      <td>440</td>\n",
       "      <td>3341982548</td>\n",
       "      <td>3.7</td>\n",
       "      <td>data scientist</td>\n",
       "      <td>ADP</td>\n",
       "      <td>NaN</td>\n",
       "      <td>NaN</td>\n",
       "      <td>106.0</td>\n",
       "      <td>143.0</td>\n",
       "      <td>Data Scientist\\n\\nLocation: 99 Jefferson Rd, P...</td>\n",
       "      <td>Roseland</td>\n",
       "      <td>NJ</td>\n",
       "      <td>10000</td>\n",
       "      <td>Consulting</td>\n",
       "    </tr>\n",
       "    <tr>\n",
       "      <td>445</td>\n",
       "      <td>3385091901</td>\n",
       "      <td>3.5</td>\n",
       "      <td>data scientist</td>\n",
       "      <td>People Make Us</td>\n",
       "      <td>NaN</td>\n",
       "      <td>NaN</td>\n",
       "      <td>NaN</td>\n",
       "      <td>NaN</td>\n",
       "      <td>Job Description\\nMy name is Chad and I represe...</td>\n",
       "      <td>Burlington</td>\n",
       "      <td>VT</td>\n",
       "      <td>50</td>\n",
       "      <td>Advertising &amp; Marketing</td>\n",
       "    </tr>\n",
       "    <tr>\n",
       "      <td>446</td>\n",
       "      <td>3388925956</td>\n",
       "      <td>3.5</td>\n",
       "      <td>data scientist</td>\n",
       "      <td>Momentum Solar</td>\n",
       "      <td>NaN</td>\n",
       "      <td>NaN</td>\n",
       "      <td>60.0</td>\n",
       "      <td>91.0</td>\n",
       "      <td>Momentum Solar is a premier residential solar ...</td>\n",
       "      <td>South Plainfield</td>\n",
       "      <td>NJ</td>\n",
       "      <td>1000</td>\n",
       "      <td>Energy</td>\n",
       "    </tr>\n",
       "    <tr>\n",
       "      <td>471</td>\n",
       "      <td>3388728004</td>\n",
       "      <td>2.9</td>\n",
       "      <td>firstsense applied data scientist</td>\n",
       "      <td>First Data Corporation</td>\n",
       "      <td>NaN</td>\n",
       "      <td>NaN</td>\n",
       "      <td>73.0</td>\n",
       "      <td>102.0</td>\n",
       "      <td>Position Description Overview\\n\\nInterested in...</td>\n",
       "      <td>Atlanta</td>\n",
       "      <td>GA</td>\n",
       "      <td>10000</td>\n",
       "      <td>Financial Transaction Processing</td>\n",
       "    </tr>\n",
       "    <tr>\n",
       "      <td>497</td>\n",
       "      <td>3391743602</td>\n",
       "      <td>3.4</td>\n",
       "      <td>product developer and data scientist</td>\n",
       "      <td>Citibank</td>\n",
       "      <td>NaN</td>\n",
       "      <td>NaN</td>\n",
       "      <td>76.0</td>\n",
       "      <td>102.0</td>\n",
       "      <td>The Applications Development Group Manager is ...</td>\n",
       "      <td>Elk Grove Village</td>\n",
       "      <td>IL</td>\n",
       "      <td>10000</td>\n",
       "      <td>Lending</td>\n",
       "    </tr>\n",
       "    <tr>\n",
       "      <td>514</td>\n",
       "      <td>3380038893</td>\n",
       "      <td>4.2</td>\n",
       "      <td>data analyst</td>\n",
       "      <td>APN Consulting</td>\n",
       "      <td>NaN</td>\n",
       "      <td>NaN</td>\n",
       "      <td>59.0</td>\n",
       "      <td>95.0</td>\n",
       "      <td>DIRECT CLIENT REQUIREMENT\\nJob Title: Data Ana...</td>\n",
       "      <td>Monmouth Junction</td>\n",
       "      <td>NJ</td>\n",
       "      <td>50</td>\n",
       "      <td>Advertising &amp; Marketing</td>\n",
       "    </tr>\n",
       "    <tr>\n",
       "      <td>541</td>\n",
       "      <td>3244063645</td>\n",
       "      <td>4.6</td>\n",
       "      <td>medical data scientist</td>\n",
       "      <td>PSG Global Solutions</td>\n",
       "      <td>NaN</td>\n",
       "      <td>NaN</td>\n",
       "      <td>NaN</td>\n",
       "      <td>NaN</td>\n",
       "      <td>The Opportunity\\n\\n\\nWe're looking for a Medic...</td>\n",
       "      <td>Marina del Rey</td>\n",
       "      <td>CA</td>\n",
       "      <td>5000</td>\n",
       "      <td>Staffing &amp; Outsourcing</td>\n",
       "    </tr>\n",
       "    <tr>\n",
       "      <td>547</td>\n",
       "      <td>3292996965</td>\n",
       "      <td>2.5</td>\n",
       "      <td>sr. scientist i</td>\n",
       "      <td>Takasago International Corp</td>\n",
       "      <td>NaN</td>\n",
       "      <td>NaN</td>\n",
       "      <td>85.0</td>\n",
       "      <td>121.0</td>\n",
       "      <td>Job Summary: The Senior Scientist will conduct...</td>\n",
       "      <td>Rockleigh</td>\n",
       "      <td>NJ</td>\n",
       "      <td>500</td>\n",
       "      <td>Food &amp; Beverage Manufacturing</td>\n",
       "    </tr>\n",
       "    <tr>\n",
       "      <td>552</td>\n",
       "      <td>3358012561</td>\n",
       "      <td>4.1</td>\n",
       "      <td>2020 phd university graduate - data scientist ...</td>\n",
       "      <td>Uber</td>\n",
       "      <td>NaN</td>\n",
       "      <td>NaN</td>\n",
       "      <td>95.0</td>\n",
       "      <td>130.0</td>\n",
       "      <td>At Uber, we ignite opportunity by setting the ...</td>\n",
       "      <td>San Francisco</td>\n",
       "      <td>CA</td>\n",
       "      <td>10000</td>\n",
       "      <td>Computer Hardware &amp; Software</td>\n",
       "    </tr>\n",
       "    <tr>\n",
       "      <td>573</td>\n",
       "      <td>3381492602</td>\n",
       "      <td>3.5</td>\n",
       "      <td>senior data scientist</td>\n",
       "      <td>Prudential</td>\n",
       "      <td>NaN</td>\n",
       "      <td>NaN</td>\n",
       "      <td>99.0</td>\n",
       "      <td>141.0</td>\n",
       "      <td>Prudential Financial, Inc. is a multinational ...</td>\n",
       "      <td>Newark</td>\n",
       "      <td>NJ</td>\n",
       "      <td>10000</td>\n",
       "      <td>Investment Banking &amp; Asset Management</td>\n",
       "    </tr>\n",
       "  </tbody>\n",
       "</table>\n",
       "</div>"
      ],
      "text/plain": [
       "         job_id  rating                                           position  \\\n",
       "28   3318225561     3.8                                      data engineer   \n",
       "66   3365248211     3.6                                      data engineer   \n",
       "73   3317344619     2.8                                  software engineer   \n",
       "77   3349197179     0.0                                      data engineer   \n",
       "130  3391739330     3.3                                  software engineer   \n",
       "143  3345597620     3.5  entry level software development engineer 2019...   \n",
       "177  3319618262     3.2                                      data engineer   \n",
       "196  3388042390     3.2                                      data engineer   \n",
       "231  3380009451     5.0                                      data engineer   \n",
       "343  3227144875     3.4                                     data scientist   \n",
       "352  3351721043     3.5                                     data scientist   \n",
       "362  3304513767     3.5                                     data scientist   \n",
       "368  3353364228     4.3                                     data scientist   \n",
       "376  3347385784     3.5                               data scientist, rpsg   \n",
       "395  3366389666     3.9                                     data scientist   \n",
       "398  3383167200     4.0                               data scientist (nlp)   \n",
       "399  3368760213     3.9                                     data scientist   \n",
       "404  3372442313     4.8                                     data scientist   \n",
       "414  3344992472     3.9                 data scientist - actimize division   \n",
       "433  3380915652     3.4                    Senior Principal Data Scientist   \n",
       "434  3371180768     5.0                                     data scientist   \n",
       "438  3374510907     2.5  medical data scientist - clinical safety data ...   \n",
       "440  3341982548     3.7                                     data scientist   \n",
       "445  3385091901     3.5                                     data scientist   \n",
       "446  3388925956     3.5                                     data scientist   \n",
       "471  3388728004     2.9                  firstsense applied data scientist   \n",
       "497  3391743602     3.4               product developer and data scientist   \n",
       "514  3380038893     4.2                                       data analyst   \n",
       "541  3244063645     4.6                             medical data scientist   \n",
       "547  3292996965     2.5                                    sr. scientist i   \n",
       "552  3358012561     4.1  2020 phd university graduate - data scientist ...   \n",
       "573  3381492602     3.5                              senior data scientist   \n",
       "\n",
       "                                     company job_city job_state_code  sal_low  \\\n",
       "28                               Capital One      NaN            NaN     90.0   \n",
       "66                                 Comau LLC      NaN            NaN     65.0   \n",
       "73                       Mitsubishi Electric      NaN            NaN     59.0   \n",
       "77             Global Information Technology      NaN            NaN     60.0   \n",
       "130                               Amtec Inc.      NaN            NaN     50.0   \n",
       "143                                  Audible      NaN            NaN    100.0   \n",
       "177                         Sapphire Digital      NaN            NaN     75.0   \n",
       "196                                 Caresoft      NaN            NaN     80.0   \n",
       "231                           Techlink, Inc.      NaN            NaN    108.0   \n",
       "343                      United Technologies      NaN            NaN     92.0   \n",
       "352                               Prudential      NaN            NaN     79.0   \n",
       "362                                  Audible      NaN            NaN    103.0   \n",
       "368                           InvenTech Info      NaN            NaN      NaN   \n",
       "376  New York City Department of Education .      NaN            NaN     76.0   \n",
       "395                                 Unilever      NaN            NaN     84.0   \n",
       "398                      Apidel Technologies      NaN            NaN    101.0   \n",
       "399                                    Bayer      NaN            NaN    104.0   \n",
       "404                    Princeton IT Services      NaN            NaN     90.0   \n",
       "414                            NICE Actimize      NaN            NaN     94.0   \n",
       "433                         verisk analytics      NaN            NaN    124.0   \n",
       "434                                HR Acuity      NaN            NaN      NaN   \n",
       "438                               Eisai Inc.      NaN            NaN     96.0   \n",
       "440                                      ADP      NaN            NaN    106.0   \n",
       "445                           People Make Us      NaN            NaN      NaN   \n",
       "446                           Momentum Solar      NaN            NaN     60.0   \n",
       "471                   First Data Corporation      NaN            NaN     73.0   \n",
       "497                                 Citibank      NaN            NaN     76.0   \n",
       "514                           APN Consulting      NaN            NaN     59.0   \n",
       "541                     PSG Global Solutions      NaN            NaN      NaN   \n",
       "547              Takasago International Corp      NaN            NaN     85.0   \n",
       "552                                     Uber      NaN            NaN     95.0   \n",
       "573                               Prudential      NaN            NaN     99.0   \n",
       "\n",
       "     sal_high                                        description  \\\n",
       "28      123.0  1 Broadway (21026), United States of America, ...   \n",
       "66       90.0  Comau LLC is now creating a new team focused o...   \n",
       "73      103.0  Mitsubishi Electric Automotive America creates...   \n",
       "77       84.0  Job Code ATL - 341\\nJob Title Data Engineer\\nL...   \n",
       "130      87.0  Job Description\\nJOB DESCRIPTION\\n\\nThe candid...   \n",
       "143     131.0  Come and be part of a great Audible team on th...   \n",
       "177     104.0  Sapphire Digital seeks a dynamic and driven mi...   \n",
       "196     110.0  Title: Hadoop Developer/Data EngineerLocation:...   \n",
       "231     146.0  Job Title: Sr. Data EngineerLocation: Northern...   \n",
       "343     133.0  Date Posted:\\n\\n2019-05-08-07:00\\n\\nCountry:\\n...   \n",
       "352     117.0  Data Scientists are tasked with mining our ind...   \n",
       "362     143.0  Audible, an Amazon company, is the leading pro...   \n",
       "368       NaN  Job Title: Data Scientist\\n\\nLocation: New Jer...   \n",
       "376     117.0  This title is in a civil service competitive c...   \n",
       "395     125.0  Background & Purpose of the Job\\n\\nAs a Data S...   \n",
       "398     148.0  One of top 10 Analytics Consulting and Operati...   \n",
       "399     154.0  Bayer is a global enterprise with core compete...   \n",
       "404     134.0  We are conducting search for Data Scientist fo...   \n",
       "414     128.0  Position: Data Scientist\\n\\nLocation: Hoboken/...   \n",
       "433     172.0  Company Description\\n\\nISO, a Verisk business,...   \n",
       "434       NaN  Job Description\\nAs Data Scientist, you will b...   \n",
       "438     139.0  Eisai Inc. was established in 1995 and began m...   \n",
       "440     143.0  Data Scientist\\n\\nLocation: 99 Jefferson Rd, P...   \n",
       "445       NaN  Job Description\\nMy name is Chad and I represe...   \n",
       "446      91.0  Momentum Solar is a premier residential solar ...   \n",
       "471     102.0  Position Description Overview\\n\\nInterested in...   \n",
       "497     102.0  The Applications Development Group Manager is ...   \n",
       "514      95.0  DIRECT CLIENT REQUIREMENT\\nJob Title: Data Ana...   \n",
       "541       NaN  The Opportunity\\n\\n\\nWe're looking for a Medic...   \n",
       "547     121.0  Job Summary: The Senior Scientist will conduct...   \n",
       "552     130.0  At Uber, we ignite opportunity by setting the ...   \n",
       "573     141.0  Prudential Financial, Inc. is a multinational ...   \n",
       "\n",
       "               hq_city   hq_state_code   size  \\\n",
       "28             Mc Lean              VA  10000   \n",
       "66          Grugliasco           Italy  10000   \n",
       "73               Mason              OH   5000   \n",
       "77               Tampa              FL    200   \n",
       "130              Elgin              IL    500   \n",
       "143             Newark              NJ   5000   \n",
       "177          Lyndhurst              NJ    500   \n",
       "196          Middlesex              NJ     50   \n",
       "231            Atlanta              GA     50   \n",
       "343         Farmington              CT  10000   \n",
       "352             Newark              NJ  10000   \n",
       "362             Newark              NJ   5000   \n",
       "368          Bengaluru           India    500   \n",
       "376           New York              NY  10000   \n",
       "395             London  United Kingdom  10000   \n",
       "398    Rolling Meadows              IL   1000   \n",
       "399         Leverkusen         Germany  10000   \n",
       "404           Hamilton              NJ     50   \n",
       "414            Hoboken              NJ   1000   \n",
       "433        Jersey City              NJ  10000   \n",
       "434       Florham Park              NJ     50   \n",
       "438     Woodcliff Lake              NJ    500   \n",
       "440           Roseland              NJ  10000   \n",
       "445         Burlington              VT     50   \n",
       "446   South Plainfield              NJ   1000   \n",
       "471            Atlanta              GA  10000   \n",
       "497  Elk Grove Village              IL  10000   \n",
       "514  Monmouth Junction              NJ     50   \n",
       "541     Marina del Rey              CA   5000   \n",
       "547          Rockleigh              NJ    500   \n",
       "552      San Francisco              CA  10000   \n",
       "573             Newark              NJ  10000   \n",
       "\n",
       "                                     industry  \n",
       "28                      Banks & Credit Unions  \n",
       "66                   Industrial Manufacturing  \n",
       "73     Transportation Equipment Manufacturing  \n",
       "77                                IT Services  \n",
       "130                  Industrial Manufacturing  \n",
       "143  Motion Picture Production & Distribution  \n",
       "177                                  Internet  \n",
       "196              Computer Hardware & Software  \n",
       "231                    Staffing & Outsourcing  \n",
       "343                       Aerospace & Defense  \n",
       "352     Investment Banking & Asset Management  \n",
       "362  Motion Picture Production & Distribution  \n",
       "368                               IT Services  \n",
       "376                     Municipal Governments  \n",
       "395           Consumer Products Manufacturing  \n",
       "398                    Staffing & Outsourcing  \n",
       "399                 Biotech & Pharmaceuticals  \n",
       "404              Computer Hardware & Software  \n",
       "414              Computer Hardware & Software  \n",
       "433                    Research & Development  \n",
       "434                                  Internet  \n",
       "438                 Biotech & Pharmaceuticals  \n",
       "440                                Consulting  \n",
       "445                   Advertising & Marketing  \n",
       "446                                    Energy  \n",
       "471          Financial Transaction Processing  \n",
       "497                                   Lending  \n",
       "514                   Advertising & Marketing  \n",
       "541                    Staffing & Outsourcing  \n",
       "547             Food & Beverage Manufacturing  \n",
       "552              Computer Hardware & Software  \n",
       "573     Investment Banking & Asset Management  "
      ]
     },
     "execution_count": 315,
     "metadata": {},
     "output_type": "execute_result"
    }
   ],
   "source": [
    "data[data_null]"
   ]
  },
  {
   "cell_type": "code",
   "execution_count": 316,
   "metadata": {},
   "outputs": [],
   "source": [
    "data = data.dropna(axis=0, subset=['job_state_code'])"
   ]
  },
  {
   "cell_type": "code",
   "execution_count": 317,
   "metadata": {},
   "outputs": [
    {
     "data": {
      "text/plain": [
       "job_id              0\n",
       "rating              0\n",
       "position            0\n",
       "company             0\n",
       "job_city            0\n",
       "job_state_code      0\n",
       "sal_low           171\n",
       "sal_high          171\n",
       "description         0\n",
       "hq_city             0\n",
       "hq_state_code       0\n",
       "size                0\n",
       "industry            0\n",
       "dtype: int64"
      ]
     },
     "execution_count": 317,
     "metadata": {},
     "output_type": "execute_result"
    }
   ],
   "source": [
    "data.isnull().sum()"
   ]
  },
  {
   "cell_type": "code",
   "execution_count": 318,
   "metadata": {},
   "outputs": [
    {
     "data": {
      "text/plain": [
       "job_id              int64\n",
       "rating            float64\n",
       "position           object\n",
       "company            object\n",
       "job_city           object\n",
       "job_state_code     object\n",
       "sal_low           float64\n",
       "sal_high          float64\n",
       "description        object\n",
       "hq_city            object\n",
       "hq_state_code      object\n",
       "size                int64\n",
       "industry           object\n",
       "dtype: object"
      ]
     },
     "execution_count": 318,
     "metadata": {},
     "output_type": "execute_result"
    }
   ],
   "source": [
    "data.dtypes"
   ]
  },
  {
   "cell_type": "code",
   "execution_count": 319,
   "metadata": {},
   "outputs": [],
   "source": [
    "avg_low_sal=data.groupby('job_state_code')[['sal_low']].mean()"
   ]
  },
  {
   "cell_type": "code",
   "execution_count": 320,
   "metadata": {},
   "outputs": [
    {
     "data": {
      "text/html": [
       "<div>\n",
       "<style scoped>\n",
       "    .dataframe tbody tr th:only-of-type {\n",
       "        vertical-align: middle;\n",
       "    }\n",
       "\n",
       "    .dataframe tbody tr th {\n",
       "        vertical-align: top;\n",
       "    }\n",
       "\n",
       "    .dataframe thead th {\n",
       "        text-align: right;\n",
       "    }\n",
       "</style>\n",
       "<table border=\"1\" class=\"dataframe\">\n",
       "  <thead>\n",
       "    <tr style=\"text-align: right;\">\n",
       "      <th></th>\n",
       "      <th>sal_low</th>\n",
       "    </tr>\n",
       "    <tr>\n",
       "      <th>job_state_code</th>\n",
       "      <th></th>\n",
       "    </tr>\n",
       "  </thead>\n",
       "  <tbody>\n",
       "    <tr>\n",
       "      <td>MA</td>\n",
       "      <td>81.173913</td>\n",
       "    </tr>\n",
       "    <tr>\n",
       "      <td>MI</td>\n",
       "      <td>69.859649</td>\n",
       "    </tr>\n",
       "    <tr>\n",
       "      <td>NY</td>\n",
       "      <td>91.989510</td>\n",
       "    </tr>\n",
       "    <tr>\n",
       "      <td>TX</td>\n",
       "      <td>90.684211</td>\n",
       "    </tr>\n",
       "  </tbody>\n",
       "</table>\n",
       "</div>"
      ],
      "text/plain": [
       "                  sal_low\n",
       "job_state_code           \n",
       "MA              81.173913\n",
       "MI              69.859649\n",
       "NY              91.989510\n",
       "TX              90.684211"
      ]
     },
     "execution_count": 320,
     "metadata": {},
     "output_type": "execute_result"
    }
   ],
   "source": [
    "avg_low_sal"
   ]
  },
  {
   "cell_type": "code",
   "execution_count": 321,
   "metadata": {},
   "outputs": [],
   "source": [
    "avg_high_sal=data.groupby('job_state_code')[['sal_high']].mean()"
   ]
  },
  {
   "cell_type": "code",
   "execution_count": 322,
   "metadata": {},
   "outputs": [
    {
     "data": {
      "text/html": [
       "<div>\n",
       "<style scoped>\n",
       "    .dataframe tbody tr th:only-of-type {\n",
       "        vertical-align: middle;\n",
       "    }\n",
       "\n",
       "    .dataframe tbody tr th {\n",
       "        vertical-align: top;\n",
       "    }\n",
       "\n",
       "    .dataframe thead th {\n",
       "        text-align: right;\n",
       "    }\n",
       "</style>\n",
       "<table border=\"1\" class=\"dataframe\">\n",
       "  <thead>\n",
       "    <tr style=\"text-align: right;\">\n",
       "      <th></th>\n",
       "      <th>sal_high</th>\n",
       "    </tr>\n",
       "    <tr>\n",
       "      <th>job_state_code</th>\n",
       "      <th></th>\n",
       "    </tr>\n",
       "  </thead>\n",
       "  <tbody>\n",
       "    <tr>\n",
       "      <td>MA</td>\n",
       "      <td>115.695652</td>\n",
       "    </tr>\n",
       "    <tr>\n",
       "      <td>MI</td>\n",
       "      <td>103.719298</td>\n",
       "    </tr>\n",
       "    <tr>\n",
       "      <td>NY</td>\n",
       "      <td>132.062937</td>\n",
       "    </tr>\n",
       "    <tr>\n",
       "      <td>TX</td>\n",
       "      <td>122.526316</td>\n",
       "    </tr>\n",
       "  </tbody>\n",
       "</table>\n",
       "</div>"
      ],
      "text/plain": [
       "                  sal_high\n",
       "job_state_code            \n",
       "MA              115.695652\n",
       "MI              103.719298\n",
       "NY              132.062937\n",
       "TX              122.526316"
      ]
     },
     "execution_count": 322,
     "metadata": {},
     "output_type": "execute_result"
    }
   ],
   "source": [
    "avg_high_sal"
   ]
  },
  {
   "cell_type": "code",
   "execution_count": 323,
   "metadata": {},
   "outputs": [],
   "source": [
    "data['sal_low'] = data['sal_low'].fillna(data.groupby('job_state_code')['sal_low'].transform('mean'))"
   ]
  },
  {
   "cell_type": "code",
   "execution_count": 324,
   "metadata": {},
   "outputs": [],
   "source": [
    "data['sal_high'] = data['sal_high'].fillna(data.groupby('job_state_code')['sal_high'].transform('mean'))"
   ]
  },
  {
   "cell_type": "code",
   "execution_count": 325,
   "metadata": {},
   "outputs": [
    {
     "data": {
      "text/plain": [
       "job_id            0\n",
       "rating            0\n",
       "position          0\n",
       "company           0\n",
       "job_city          0\n",
       "job_state_code    0\n",
       "sal_low           0\n",
       "sal_high          0\n",
       "description       0\n",
       "hq_city           0\n",
       "hq_state_code     0\n",
       "size              0\n",
       "industry          0\n",
       "dtype: int64"
      ]
     },
     "execution_count": 325,
     "metadata": {},
     "output_type": "execute_result"
    }
   ],
   "source": [
    "data.isnull().sum()"
   ]
  },
  {
   "cell_type": "code",
   "execution_count": 326,
   "metadata": {},
   "outputs": [],
   "source": [
    "data['sal_mid'] = (data['sal_low']+data['sal_high'])/2"
   ]
  },
  {
   "cell_type": "code",
   "execution_count": 327,
   "metadata": {},
   "outputs": [
    {
     "data": {
      "text/html": [
       "<div>\n",
       "<style scoped>\n",
       "    .dataframe tbody tr th:only-of-type {\n",
       "        vertical-align: middle;\n",
       "    }\n",
       "\n",
       "    .dataframe tbody tr th {\n",
       "        vertical-align: top;\n",
       "    }\n",
       "\n",
       "    .dataframe thead th {\n",
       "        text-align: right;\n",
       "    }\n",
       "</style>\n",
       "<table border=\"1\" class=\"dataframe\">\n",
       "  <thead>\n",
       "    <tr style=\"text-align: right;\">\n",
       "      <th></th>\n",
       "      <th>job_id</th>\n",
       "      <th>rating</th>\n",
       "      <th>position</th>\n",
       "      <th>company</th>\n",
       "      <th>job_city</th>\n",
       "      <th>job_state_code</th>\n",
       "      <th>sal_low</th>\n",
       "      <th>sal_high</th>\n",
       "      <th>description</th>\n",
       "      <th>hq_city</th>\n",
       "      <th>hq_state_code</th>\n",
       "      <th>size</th>\n",
       "      <th>industry</th>\n",
       "      <th>sal_mid</th>\n",
       "    </tr>\n",
       "  </thead>\n",
       "  <tbody>\n",
       "    <tr>\n",
       "      <td>0</td>\n",
       "      <td>3381578119</td>\n",
       "      <td>3.9</td>\n",
       "      <td>data engineer</td>\n",
       "      <td>Seniorlink</td>\n",
       "      <td>Boston</td>\n",
       "      <td>MA</td>\n",
       "      <td>64.0</td>\n",
       "      <td>89.0</td>\n",
       "      <td>Position Summary:\\n\\n\\nThe Data Engineer will ...</td>\n",
       "      <td>Boston</td>\n",
       "      <td>MA</td>\n",
       "      <td>500</td>\n",
       "      <td>Health Care Services &amp; Hospitals</td>\n",
       "      <td>76.5</td>\n",
       "    </tr>\n",
       "    <tr>\n",
       "      <td>1</td>\n",
       "      <td>3320321158</td>\n",
       "      <td>3.6</td>\n",
       "      <td>data engineer</td>\n",
       "      <td>Blue Cross and Blue Shield of Massachusetts</td>\n",
       "      <td>Boston</td>\n",
       "      <td>MA</td>\n",
       "      <td>83.0</td>\n",
       "      <td>113.0</td>\n",
       "      <td>Ready to help us transform healthcare? Bring y...</td>\n",
       "      <td>Boston</td>\n",
       "      <td>MA</td>\n",
       "      <td>5000</td>\n",
       "      <td>Insurance Carriers</td>\n",
       "      <td>98.0</td>\n",
       "    </tr>\n",
       "    <tr>\n",
       "      <td>2</td>\n",
       "      <td>3284284037</td>\n",
       "      <td>2.7</td>\n",
       "      <td>data engineer</td>\n",
       "      <td>COTA</td>\n",
       "      <td>Boston</td>\n",
       "      <td>MA</td>\n",
       "      <td>86.0</td>\n",
       "      <td>117.0</td>\n",
       "      <td>POSITION: DATA ENGINEER\\n\\nABOUT COTA\\nCOTA wa...</td>\n",
       "      <td>New York</td>\n",
       "      <td>NY</td>\n",
       "      <td>200</td>\n",
       "      <td>Computer Hardware &amp; Software</td>\n",
       "      <td>101.5</td>\n",
       "    </tr>\n",
       "    <tr>\n",
       "      <td>3</td>\n",
       "      <td>3298422474</td>\n",
       "      <td>4.0</td>\n",
       "      <td>data engineer, data intelligence</td>\n",
       "      <td>Indigo</td>\n",
       "      <td>Boston</td>\n",
       "      <td>MA</td>\n",
       "      <td>100.0</td>\n",
       "      <td>136.0</td>\n",
       "      <td>Indigo improves grower profitability, environm...</td>\n",
       "      <td>Boston</td>\n",
       "      <td>MA</td>\n",
       "      <td>5000</td>\n",
       "      <td>Farm Support Services</td>\n",
       "      <td>118.0</td>\n",
       "    </tr>\n",
       "    <tr>\n",
       "      <td>4</td>\n",
       "      <td>3352031827</td>\n",
       "      <td>4.3</td>\n",
       "      <td>data application engineer</td>\n",
       "      <td>CarGurus</td>\n",
       "      <td>Cambridge</td>\n",
       "      <td>MA</td>\n",
       "      <td>61.0</td>\n",
       "      <td>93.0</td>\n",
       "      <td>Meet CarGurus—the #1 visited online car shoppi...</td>\n",
       "      <td>Cambridge</td>\n",
       "      <td>MA</td>\n",
       "      <td>1000</td>\n",
       "      <td>Internet</td>\n",
       "      <td>77.0</td>\n",
       "    </tr>\n",
       "  </tbody>\n",
       "</table>\n",
       "</div>"
      ],
      "text/plain": [
       "       job_id  rating                          position  \\\n",
       "0  3381578119     3.9                     data engineer   \n",
       "1  3320321158     3.6                     data engineer   \n",
       "2  3284284037     2.7                     data engineer   \n",
       "3  3298422474     4.0  data engineer, data intelligence   \n",
       "4  3352031827     4.3         data application engineer   \n",
       "\n",
       "                                       company   job_city job_state_code  \\\n",
       "0                                   Seniorlink     Boston             MA   \n",
       "1  Blue Cross and Blue Shield of Massachusetts     Boston             MA   \n",
       "2                                         COTA     Boston             MA   \n",
       "3                                       Indigo     Boston             MA   \n",
       "4                                     CarGurus  Cambridge             MA   \n",
       "\n",
       "   sal_low  sal_high                                        description  \\\n",
       "0     64.0      89.0  Position Summary:\\n\\n\\nThe Data Engineer will ...   \n",
       "1     83.0     113.0  Ready to help us transform healthcare? Bring y...   \n",
       "2     86.0     117.0  POSITION: DATA ENGINEER\\n\\nABOUT COTA\\nCOTA wa...   \n",
       "3    100.0     136.0  Indigo improves grower profitability, environm...   \n",
       "4     61.0      93.0  Meet CarGurus—the #1 visited online car shoppi...   \n",
       "\n",
       "     hq_city hq_state_code  size                          industry  sal_mid  \n",
       "0     Boston            MA   500  Health Care Services & Hospitals     76.5  \n",
       "1     Boston            MA  5000                Insurance Carriers     98.0  \n",
       "2   New York            NY   200      Computer Hardware & Software    101.5  \n",
       "3     Boston            MA  5000             Farm Support Services    118.0  \n",
       "4  Cambridge            MA  1000                          Internet     77.0  "
      ]
     },
     "execution_count": 327,
     "metadata": {},
     "output_type": "execute_result"
    }
   ],
   "source": [
    "data.head()"
   ]
  },
  {
   "cell_type": "code",
   "execution_count": 328,
   "metadata": {},
   "outputs": [
    {
     "data": {
      "text/plain": [
       "(579, 14)"
      ]
     },
     "execution_count": 328,
     "metadata": {},
     "output_type": "execute_result"
    }
   ],
   "source": [
    "data.shape"
   ]
  },
  {
   "cell_type": "code",
   "execution_count": 330,
   "metadata": {},
   "outputs": [
    {
     "data": {
      "text/plain": [
       "<matplotlib.axes._subplots.AxesSubplot at 0x1cb7f755d48>"
      ]
     },
     "execution_count": 330,
     "metadata": {},
     "output_type": "execute_result"
    },
    {
     "data": {
      "image/png": "[encoded data removed]",
      "text/plain": [
       "<Figure size 432x288 with 1 Axes>"
      ]
     },
     "metadata": {
      "needs_background": "light"
     },
     "output_type": "display_data"
    }
   ],
   "source": [
    "data['rating'].plot.hist(alpha=0.5,color='teal')"
   ]
  },
  {
   "cell_type": "code",
   "execution_count": 331,
   "metadata": {},
   "outputs": [
    {
     "data": {
      "text/plain": [
       "<matplotlib.axes._subplots.AxesSubplot at 0x1cb0006b808>"
      ]
     },
     "execution_count": 331,
     "metadata": {},
     "output_type": "execute_result"
    },
    {
     "data": {
      "image/png": "[encoded data removed]",
      "text/plain": [
       "<Figure size 432x288 with 1 Axes>"
      ]
     },
     "metadata": {
      "needs_background": "light"
     },
     "output_type": "display_data"
    }
   ],
   "source": [
    "data['sal_mid'].plot.hist(alpha=0.5,color='teal')"
   ]
  },
  {
   "cell_type": "code",
   "execution_count": 332,
   "metadata": {},
   "outputs": [
    {
     "data": {
      "text/plain": [
       "<matplotlib.axes._subplots.AxesSubplot at 0x1cb000dd388>"
      ]
     },
     "execution_count": 332,
     "metadata": {},
     "output_type": "execute_result"
    },
    {
     "data": {
      "image/png": "[encoded data removed]",
      "text/plain": [
       "<Figure size 432x288 with 1 Axes>"
      ]
     },
     "metadata": {
      "needs_background": "light"
     },
     "output_type": "display_data"
    }
   ],
   "source": [
    "data.plot.scatter(x='rating', y='sal_mid')"
   ]
  },
  {
   "cell_type": "code",
   "execution_count": 333,
   "metadata": {},
   "outputs": [
    {
     "data": {
      "text/html": [
       "<div>\n",
       "<style scoped>\n",
       "    .dataframe tbody tr th:only-of-type {\n",
       "        vertical-align: middle;\n",
       "    }\n",
       "\n",
       "    .dataframe tbody tr th {\n",
       "        vertical-align: top;\n",
       "    }\n",
       "\n",
       "    .dataframe thead th {\n",
       "        text-align: right;\n",
       "    }\n",
       "</style>\n",
       "<table border=\"1\" class=\"dataframe\">\n",
       "  <thead>\n",
       "    <tr style=\"text-align: right;\">\n",
       "      <th></th>\n",
       "      <th>count</th>\n",
       "    </tr>\n",
       "    <tr>\n",
       "      <th>industry</th>\n",
       "      <th></th>\n",
       "    </tr>\n",
       "  </thead>\n",
       "  <tbody>\n",
       "    <tr>\n",
       "      <td>Internet</td>\n",
       "      <td>77</td>\n",
       "    </tr>\n",
       "    <tr>\n",
       "      <td>IT Services</td>\n",
       "      <td>55</td>\n",
       "    </tr>\n",
       "    <tr>\n",
       "      <td>Staffing &amp; Outsourcing</td>\n",
       "      <td>48</td>\n",
       "    </tr>\n",
       "    <tr>\n",
       "      <td>Computer Hardware &amp; Software</td>\n",
       "      <td>47</td>\n",
       "    </tr>\n",
       "    <tr>\n",
       "      <td>Enterprise Software &amp; Network Solutions</td>\n",
       "      <td>44</td>\n",
       "    </tr>\n",
       "    <tr>\n",
       "      <td>...</td>\n",
       "      <td>...</td>\n",
       "    </tr>\n",
       "    <tr>\n",
       "      <td>Grocery Stores &amp; Supermarkets</td>\n",
       "      <td>1</td>\n",
       "    </tr>\n",
       "    <tr>\n",
       "      <td>Health Care Products Manufacturing</td>\n",
       "      <td>1</td>\n",
       "    </tr>\n",
       "    <tr>\n",
       "      <td>Video Games</td>\n",
       "      <td>1</td>\n",
       "    </tr>\n",
       "    <tr>\n",
       "      <td>Home Furniture &amp; Housewares Stores</td>\n",
       "      <td>1</td>\n",
       "    </tr>\n",
       "    <tr>\n",
       "      <td>Wholesale</td>\n",
       "      <td>1</td>\n",
       "    </tr>\n",
       "  </tbody>\n",
       "</table>\n",
       "<p>64 rows × 1 columns</p>\n",
       "</div>"
      ],
      "text/plain": [
       "                                         count\n",
       "industry                                      \n",
       "Internet                                    77\n",
       "IT Services                                 55\n",
       "Staffing & Outsourcing                      48\n",
       "Computer Hardware & Software                47\n",
       "Enterprise Software & Network Solutions     44\n",
       "...                                        ...\n",
       "Grocery Stores & Supermarkets                1\n",
       "Health Care Products Manufacturing           1\n",
       "Video Games                                  1\n",
       "Home Furniture & Housewares Stores           1\n",
       "Wholesale                                    1\n",
       "\n",
       "[64 rows x 1 columns]"
      ]
     },
     "execution_count": 333,
     "metadata": {},
     "output_type": "execute_result"
    }
   ],
   "source": [
    "# Industries which offer more jobs\n",
    "\n",
    "Industry_jobs = data.groupby('industry')['job_id'].count().sort_values(ascending = False)\n",
    "pd.DataFrame({'count':Industry_jobs})"
   ]
  },
  {
   "cell_type": "code",
   "execution_count": 334,
   "metadata": {},
   "outputs": [
    {
     "data": {
      "text/plain": [
       "industry\n",
       "Biotech & Pharmaceuticals                113.582667\n",
       "Banks & Credit Unions                    111.503278\n",
       "Accounting                               109.932318\n",
       "Brokerage Services                       109.263112\n",
       "Aerospace & Defense                      108.513112\n",
       "Advertising & Marketing                   98.916690\n",
       "Beauty & Personal Accessories Stores      96.500000\n",
       "Building & Personnel Services             88.644737\n",
       "Cable, Internet & Telephone Providers     85.394737\n",
       "Architectural & Engineering Services      82.263112\n",
       "Name: sal_mid, dtype: float64"
      ]
     },
     "execution_count": 334,
     "metadata": {},
     "output_type": "execute_result"
    }
   ],
   "source": [
    "#mean salary industry-wise\n",
    "data.groupby('industry').sal_mid.mean()[:10].sort_values(ascending = False)"
   ]
  },
  {
   "cell_type": "code",
   "execution_count": 335,
   "metadata": {},
   "outputs": [
    {
     "data": {
      "text/plain": [
       "Text(0, 0.5, 'Mean Salary')"
      ]
     },
     "execution_count": 335,
     "metadata": {},
     "output_type": "execute_result"
    },
    {
     "data": {
      "image/png": "[encoded data removed]",
      "text/plain": [
       "<Figure size 432x288 with 1 Axes>"
      ]
     },
     "metadata": {
      "needs_background": "light"
     },
     "output_type": "display_data"
    }
   ],
   "source": [
    "# Industries according highest average salary\n",
    "\n",
    "data.groupby('industry').sal_mid.mean()[:10].sort_values(ascending = False)[:10].plot.bar()\n",
    "plt.xlabel('Industry')\n",
    "plt.ylabel('Mean Salary')"
   ]
  },
  {
   "cell_type": "code",
   "execution_count": 336,
   "metadata": {},
   "outputs": [
    {
     "data": {
      "text/plain": [
       "Text(0, 0.5, 'State')"
      ]
     },
     "execution_count": 336,
     "metadata": {},
     "output_type": "execute_result"
    },
    {
     "data": {
      "image/png": "[encoded data removed]",
      "text/plain": [
       "<Figure size 576x432 with 1 Axes>"
      ]
     },
     "metadata": {
      "needs_background": "light"
     },
     "output_type": "display_data"
    }
   ],
   "source": [
    "# Which state offers more jobs\n",
    "plt.rcParams['figure.figsize'] = 8,6\n",
    "g2  = sns.barplot(data.job_state_code.value_counts().values[:10], data.job_state_code.value_counts().index[:10], color='teal') #top ten sectors\n",
    "plt.xlabel('Number of jobs')\n",
    "plt.ylabel('State')"
   ]
  },
  {
   "cell_type": "code",
   "execution_count": 343,
   "metadata": {},
   "outputs": [
    {
     "data": {
      "text/plain": [
       "Text(0.5, 0, 'States')"
      ]
     },
     "execution_count": 343,
     "metadata": {},
     "output_type": "execute_result"
    },
    {
     "data": {
      "image/png": "[encoded data removed]",
      "text/plain": [
       "<Figure size 576x432 with 1 Axes>"
      ]
     },
     "metadata": {
      "needs_background": "light"
     },
     "output_type": "display_data"
    }
   ],
   "source": [
    "#MEAN SALARY FOR STATES (groupby state)\n",
    "Salary_by_State = data.groupby('job_state_code').sal_mid.agg([np.mean]).sort_values(\n",
    "    'mean', ascending = False).plot(kind='bar',color='teal')\n",
    "plt.xlabel('States')"
   ]
  },
  {
   "cell_type": "code",
   "execution_count": 337,
   "metadata": {},
   "outputs": [
    {
     "data": {
      "text/plain": [
       "Text(0, 0.5, 'Industry')"
      ]
     },
     "execution_count": 337,
     "metadata": {},
     "output_type": "execute_result"
    },
    {
     "data": {
      "image/png": "[encoded data removed]",
      "text/plain": [
       "<Figure size 576x432 with 1 Axes>"
      ]
     },
     "metadata": {
      "needs_background": "light"
     },
     "output_type": "display_data"
    }
   ],
   "source": [
    "#which industry offers most jobs?\n",
    "g = sns.barplot(data[data.job_state_code=='NY'].industry.value_counts().values[:10], \n",
    "                 data[data.job_state_code=='NY'].industry.value_counts().index[:10], color ='teal') #top ten sectors\n",
    "\n",
    "plt.xlabel('Number of jobs')\n",
    "plt.ylabel('Industry')"
   ]
  },
  {
   "cell_type": "code",
   "execution_count": 338,
   "metadata": {},
   "outputs": [
    {
     "data": {
      "text/plain": [
       "Text(0.5, 0, 'Number of jobs')"
      ]
     },
     "execution_count": 338,
     "metadata": {},
     "output_type": "execute_result"
    },
    {
     "data": {
      "image/png": "[encoded data removed]",
      "text/plain": [
       "<Figure size 576x432 with 1 Axes>"
      ]
     },
     "metadata": {
      "needs_background": "light"
     },
     "output_type": "display_data"
    }
   ],
   "source": [
    "#top companies hiring\n",
    "data['company'].value_counts().head(20)[::-1].plot.barh(color='teal')\n",
    "plt.xlabel('Number of jobs')"
   ]
  },
  {
   "cell_type": "code",
   "execution_count": 339,
   "metadata": {},
   "outputs": [
    {
     "data": {
      "text/html": [
       "<div>\n",
       "<style scoped>\n",
       "    .dataframe tbody tr th:only-of-type {\n",
       "        vertical-align: middle;\n",
       "    }\n",
       "\n",
       "    .dataframe tbody tr th {\n",
       "        vertical-align: top;\n",
       "    }\n",
       "\n",
       "    .dataframe thead th {\n",
       "        text-align: right;\n",
       "    }\n",
       "</style>\n",
       "<table border=\"1\" class=\"dataframe\">\n",
       "  <thead>\n",
       "    <tr style=\"text-align: right;\">\n",
       "      <th></th>\n",
       "      <th>company</th>\n",
       "      <th>count</th>\n",
       "    </tr>\n",
       "  </thead>\n",
       "  <tbody>\n",
       "    <tr>\n",
       "      <td>0</td>\n",
       "      <td>Ford Motor Company</td>\n",
       "      <td>9</td>\n",
       "    </tr>\n",
       "    <tr>\n",
       "      <td>1</td>\n",
       "      <td>Amazon</td>\n",
       "      <td>9</td>\n",
       "    </tr>\n",
       "    <tr>\n",
       "      <td>2</td>\n",
       "      <td>StockX</td>\n",
       "      <td>6</td>\n",
       "    </tr>\n",
       "    <tr>\n",
       "      <td>3</td>\n",
       "      <td>Aetna</td>\n",
       "      <td>5</td>\n",
       "    </tr>\n",
       "    <tr>\n",
       "      <td>4</td>\n",
       "      <td>Harnham</td>\n",
       "      <td>5</td>\n",
       "    </tr>\n",
       "  </tbody>\n",
       "</table>\n",
       "</div>"
      ],
      "text/plain": [
       "              company  count\n",
       "0  Ford Motor Company      9\n",
       "1              Amazon      9\n",
       "2              StockX      6\n",
       "3               Aetna      5\n",
       "4             Harnham      5"
      ]
     },
     "execution_count": 339,
     "metadata": {},
     "output_type": "execute_result"
    }
   ],
   "source": [
    "# Top 5 companies with highest number of job postings\n",
    "top_company = data['company'].value_counts().head(200)\n",
    "top_company = top_company.to_frame().reset_index()\n",
    "top_company.columns = ['company','count']\n",
    "top_company.head()"
   ]
  },
  {
   "cell_type": "code",
   "execution_count": 354,
   "metadata": {},
   "outputs": [
    {
     "data": {
      "text/html": [
       "<div>\n",
       "<style scoped>\n",
       "    .dataframe tbody tr th:only-of-type {\n",
       "        vertical-align: middle;\n",
       "    }\n",
       "\n",
       "    .dataframe tbody tr th {\n",
       "        vertical-align: top;\n",
       "    }\n",
       "\n",
       "    .dataframe thead th {\n",
       "        text-align: right;\n",
       "    }\n",
       "</style>\n",
       "<table border=\"1\" class=\"dataframe\">\n",
       "  <thead>\n",
       "    <tr style=\"text-align: right;\">\n",
       "      <th></th>\n",
       "      <th>job_id</th>\n",
       "      <th>rating</th>\n",
       "      <th>sal_low</th>\n",
       "      <th>sal_high</th>\n",
       "      <th>size</th>\n",
       "      <th>sal_mid</th>\n",
       "    </tr>\n",
       "    <tr>\n",
       "      <th>industry</th>\n",
       "      <th></th>\n",
       "      <th></th>\n",
       "      <th></th>\n",
       "      <th></th>\n",
       "      <th></th>\n",
       "      <th></th>\n",
       "    </tr>\n",
       "  </thead>\n",
       "  <tbody>\n",
       "    <tr>\n",
       "      <td>Telecommunications Services</td>\n",
       "      <td>3.340944e+09</td>\n",
       "      <td>3.600000</td>\n",
       "      <td>127.247378</td>\n",
       "      <td>172.515734</td>\n",
       "      <td>10000.000000</td>\n",
       "      <td>149.881556</td>\n",
       "    </tr>\n",
       "    <tr>\n",
       "      <td>General Merchandise &amp; Superstores</td>\n",
       "      <td>3.287344e+09</td>\n",
       "      <td>3.750000</td>\n",
       "      <td>111.494755</td>\n",
       "      <td>156.531469</td>\n",
       "      <td>2600.000000</td>\n",
       "      <td>134.013112</td>\n",
       "    </tr>\n",
       "    <tr>\n",
       "      <td>Research &amp; Development</td>\n",
       "      <td>3.343430e+09</td>\n",
       "      <td>3.466667</td>\n",
       "      <td>104.663170</td>\n",
       "      <td>148.354312</td>\n",
       "      <td>150.000000</td>\n",
       "      <td>126.508741</td>\n",
       "    </tr>\n",
       "    <tr>\n",
       "      <td>Farm Support Services</td>\n",
       "      <td>3.011729e+09</td>\n",
       "      <td>4.000000</td>\n",
       "      <td>104.000000</td>\n",
       "      <td>141.500000</td>\n",
       "      <td>5000.000000</td>\n",
       "      <td>122.750000</td>\n",
       "    </tr>\n",
       "    <tr>\n",
       "      <td>Oil &amp; Gas Exploration &amp; Production</td>\n",
       "      <td>3.320888e+09</td>\n",
       "      <td>3.900000</td>\n",
       "      <td>99.000000</td>\n",
       "      <td>143.000000</td>\n",
       "      <td>10000.000000</td>\n",
       "      <td>121.000000</td>\n",
       "    </tr>\n",
       "    <tr>\n",
       "      <td>...</td>\n",
       "      <td>...</td>\n",
       "      <td>...</td>\n",
       "      <td>...</td>\n",
       "      <td>...</td>\n",
       "      <td>...</td>\n",
       "      <td>...</td>\n",
       "    </tr>\n",
       "    <tr>\n",
       "      <td>Cable, Internet &amp; Telephone Providers</td>\n",
       "      <td>3.375238e+09</td>\n",
       "      <td>2.850000</td>\n",
       "      <td>68.929825</td>\n",
       "      <td>101.859649</td>\n",
       "      <td>5100.000000</td>\n",
       "      <td>85.394737</td>\n",
       "    </tr>\n",
       "    <tr>\n",
       "      <td>Colleges &amp; Universities</td>\n",
       "      <td>3.349868e+09</td>\n",
       "      <td>3.950000</td>\n",
       "      <td>67.000000</td>\n",
       "      <td>100.000000</td>\n",
       "      <td>7533.333333</td>\n",
       "      <td>83.500000</td>\n",
       "    </tr>\n",
       "    <tr>\n",
       "      <td>Health Care Products Manufacturing</td>\n",
       "      <td>3.246518e+09</td>\n",
       "      <td>3.100000</td>\n",
       "      <td>69.000000</td>\n",
       "      <td>97.000000</td>\n",
       "      <td>5000.000000</td>\n",
       "      <td>83.000000</td>\n",
       "    </tr>\n",
       "    <tr>\n",
       "      <td>Architectural &amp; Engineering Services</td>\n",
       "      <td>3.308056e+09</td>\n",
       "      <td>3.250000</td>\n",
       "      <td>65.994755</td>\n",
       "      <td>98.531469</td>\n",
       "      <td>750.000000</td>\n",
       "      <td>82.263112</td>\n",
       "    </tr>\n",
       "    <tr>\n",
       "      <td>Wholesale</td>\n",
       "      <td>3.141809e+09</td>\n",
       "      <td>4.200000</td>\n",
       "      <td>66.000000</td>\n",
       "      <td>98.000000</td>\n",
       "      <td>200.000000</td>\n",
       "      <td>82.000000</td>\n",
       "    </tr>\n",
       "  </tbody>\n",
       "</table>\n",
       "<p>64 rows × 6 columns</p>\n",
       "</div>"
      ],
      "text/plain": [
       "                                             job_id    rating     sal_low  \\\n",
       "industry                                                                    \n",
       "Telecommunications Services            3.340944e+09  3.600000  127.247378   \n",
       "General Merchandise & Superstores      3.287344e+09  3.750000  111.494755   \n",
       "Research & Development                 3.343430e+09  3.466667  104.663170   \n",
       "Farm Support Services                  3.011729e+09  4.000000  104.000000   \n",
       "Oil & Gas Exploration & Production     3.320888e+09  3.900000   99.000000   \n",
       "...                                             ...       ...         ...   \n",
       "Cable, Internet & Telephone Providers  3.375238e+09  2.850000   68.929825   \n",
       "Colleges & Universities                3.349868e+09  3.950000   67.000000   \n",
       "Health Care Products Manufacturing     3.246518e+09  3.100000   69.000000   \n",
       "Architectural & Engineering Services   3.308056e+09  3.250000   65.994755   \n",
       "Wholesale                              3.141809e+09  4.200000   66.000000   \n",
       "\n",
       "                                         sal_high          size     sal_mid  \n",
       "industry                                                                     \n",
       "Telecommunications Services            172.515734  10000.000000  149.881556  \n",
       "General Merchandise & Superstores      156.531469   2600.000000  134.013112  \n",
       "Research & Development                 148.354312    150.000000  126.508741  \n",
       "Farm Support Services                  141.500000   5000.000000  122.750000  \n",
       "Oil & Gas Exploration & Production     143.000000  10000.000000  121.000000  \n",
       "...                                           ...           ...         ...  \n",
       "Cable, Internet & Telephone Providers  101.859649   5100.000000   85.394737  \n",
       "Colleges & Universities                100.000000   7533.333333   83.500000  \n",
       "Health Care Products Manufacturing      97.000000   5000.000000   83.000000  \n",
       "Architectural & Engineering Services    98.531469    750.000000   82.263112  \n",
       "Wholesale                               98.000000    200.000000   82.000000  \n",
       "\n",
       "[64 rows x 6 columns]"
      ]
     },
     "execution_count": 354,
     "metadata": {},
     "output_type": "execute_result"
    }
   ],
   "source": [
    "data.groupby('industry').mean().sort_values(by='sal_mid',ascending=False)"
   ]
  },
  {
   "cell_type": "code",
   "execution_count": 357,
   "metadata": {},
   "outputs": [
    {
     "data": {
      "text/html": [
       "<div>\n",
       "<style scoped>\n",
       "    .dataframe tbody tr th:only-of-type {\n",
       "        vertical-align: middle;\n",
       "    }\n",
       "\n",
       "    .dataframe tbody tr th {\n",
       "        vertical-align: top;\n",
       "    }\n",
       "\n",
       "    .dataframe thead th {\n",
       "        text-align: right;\n",
       "    }\n",
       "</style>\n",
       "<table border=\"1\" class=\"dataframe\">\n",
       "  <thead>\n",
       "    <tr style=\"text-align: right;\">\n",
       "      <th></th>\n",
       "      <th>job_id</th>\n",
       "      <th>rating</th>\n",
       "      <th>sal_low</th>\n",
       "      <th>sal_high</th>\n",
       "      <th>size</th>\n",
       "      <th>sal_mid</th>\n",
       "    </tr>\n",
       "    <tr>\n",
       "      <th>industry</th>\n",
       "      <th></th>\n",
       "      <th></th>\n",
       "      <th></th>\n",
       "      <th></th>\n",
       "      <th></th>\n",
       "      <th></th>\n",
       "    </tr>\n",
       "  </thead>\n",
       "  <tbody>\n",
       "    <tr>\n",
       "      <td>Food Production</td>\n",
       "      <td>3.290545e+09</td>\n",
       "      <td>4.850</td>\n",
       "      <td>91.989510</td>\n",
       "      <td>132.062937</td>\n",
       "      <td>50.00</td>\n",
       "      <td>112.026224</td>\n",
       "    </tr>\n",
       "    <tr>\n",
       "      <td>Hotels, Motels, &amp; Resorts</td>\n",
       "      <td>3.342286e+09</td>\n",
       "      <td>4.700</td>\n",
       "      <td>91.989510</td>\n",
       "      <td>132.062937</td>\n",
       "      <td>200.00</td>\n",
       "      <td>112.026224</td>\n",
       "    </tr>\n",
       "    <tr>\n",
       "      <td>Real Estate</td>\n",
       "      <td>3.296779e+09</td>\n",
       "      <td>4.325</td>\n",
       "      <td>70.623689</td>\n",
       "      <td>102.132867</td>\n",
       "      <td>456.25</td>\n",
       "      <td>86.378278</td>\n",
       "    </tr>\n",
       "    <tr>\n",
       "      <td>Wholesale</td>\n",
       "      <td>3.141809e+09</td>\n",
       "      <td>4.200</td>\n",
       "      <td>66.000000</td>\n",
       "      <td>98.000000</td>\n",
       "      <td>200.00</td>\n",
       "      <td>82.000000</td>\n",
       "    </tr>\n",
       "    <tr>\n",
       "      <td>Grocery Stores &amp; Supermarkets</td>\n",
       "      <td>3.288809e+09</td>\n",
       "      <td>4.200</td>\n",
       "      <td>87.000000</td>\n",
       "      <td>117.000000</td>\n",
       "      <td>10000.00</td>\n",
       "      <td>102.000000</td>\n",
       "    </tr>\n",
       "    <tr>\n",
       "      <td>...</td>\n",
       "      <td>...</td>\n",
       "      <td>...</td>\n",
       "      <td>...</td>\n",
       "      <td>...</td>\n",
       "      <td>...</td>\n",
       "      <td>...</td>\n",
       "    </tr>\n",
       "    <tr>\n",
       "      <td>Radio</td>\n",
       "      <td>3.388726e+09</td>\n",
       "      <td>3.000</td>\n",
       "      <td>76.000000</td>\n",
       "      <td>106.000000</td>\n",
       "      <td>5000.00</td>\n",
       "      <td>91.000000</td>\n",
       "    </tr>\n",
       "    <tr>\n",
       "      <td>Building &amp; Personnel Services</td>\n",
       "      <td>3.354041e+09</td>\n",
       "      <td>3.000</td>\n",
       "      <td>71.429825</td>\n",
       "      <td>105.859649</td>\n",
       "      <td>5025.00</td>\n",
       "      <td>88.644737</td>\n",
       "    </tr>\n",
       "    <tr>\n",
       "      <td>Food &amp; Beverage Stores</td>\n",
       "      <td>3.352466e+09</td>\n",
       "      <td>3.000</td>\n",
       "      <td>79.000000</td>\n",
       "      <td>112.000000</td>\n",
       "      <td>5000.00</td>\n",
       "      <td>95.500000</td>\n",
       "    </tr>\n",
       "    <tr>\n",
       "      <td>Cable, Internet &amp; Telephone Providers</td>\n",
       "      <td>3.375238e+09</td>\n",
       "      <td>2.850</td>\n",
       "      <td>68.929825</td>\n",
       "      <td>101.859649</td>\n",
       "      <td>5100.00</td>\n",
       "      <td>85.394737</td>\n",
       "    </tr>\n",
       "    <tr>\n",
       "      <td>Electrical &amp; Electronic Manufacturing</td>\n",
       "      <td>3.024306e+09</td>\n",
       "      <td>2.800</td>\n",
       "      <td>69.859649</td>\n",
       "      <td>103.719298</td>\n",
       "      <td>500.00</td>\n",
       "      <td>86.789474</td>\n",
       "    </tr>\n",
       "  </tbody>\n",
       "</table>\n",
       "<p>64 rows × 6 columns</p>\n",
       "</div>"
      ],
      "text/plain": [
       "                                             job_id  rating    sal_low  \\\n",
       "industry                                                                 \n",
       "Food Production                        3.290545e+09   4.850  91.989510   \n",
       "Hotels, Motels, & Resorts              3.342286e+09   4.700  91.989510   \n",
       "Real Estate                            3.296779e+09   4.325  70.623689   \n",
       "Wholesale                              3.141809e+09   4.200  66.000000   \n",
       "Grocery Stores & Supermarkets          3.288809e+09   4.200  87.000000   \n",
       "...                                             ...     ...        ...   \n",
       "Radio                                  3.388726e+09   3.000  76.000000   \n",
       "Building & Personnel Services          3.354041e+09   3.000  71.429825   \n",
       "Food & Beverage Stores                 3.352466e+09   3.000  79.000000   \n",
       "Cable, Internet & Telephone Providers  3.375238e+09   2.850  68.929825   \n",
       "Electrical & Electronic Manufacturing  3.024306e+09   2.800  69.859649   \n",
       "\n",
       "                                         sal_high      size     sal_mid  \n",
       "industry                                                                 \n",
       "Food Production                        132.062937     50.00  112.026224  \n",
       "Hotels, Motels, & Resorts              132.062937    200.00  112.026224  \n",
       "Real Estate                            102.132867    456.25   86.378278  \n",
       "Wholesale                               98.000000    200.00   82.000000  \n",
       "Grocery Stores & Supermarkets          117.000000  10000.00  102.000000  \n",
       "...                                           ...       ...         ...  \n",
       "Radio                                  106.000000   5000.00   91.000000  \n",
       "Building & Personnel Services          105.859649   5025.00   88.644737  \n",
       "Food & Beverage Stores                 112.000000   5000.00   95.500000  \n",
       "Cable, Internet & Telephone Providers  101.859649   5100.00   85.394737  \n",
       "Electrical & Electronic Manufacturing  103.719298    500.00   86.789474  \n",
       "\n",
       "[64 rows x 6 columns]"
      ]
     },
     "execution_count": 357,
     "metadata": {},
     "output_type": "execute_result"
    }
   ],
   "source": [
    "data.groupby('industry').mean().sort_values(by='rating',ascending=False)"
   ]
  },
  {
   "cell_type": "code",
   "execution_count": 340,
   "metadata": {},
   "outputs": [
    {
     "data": {
      "text/plain": [
       "Text(0.5, 0, 'Salary (1000 $)')"
      ]
     },
     "execution_count": 340,
     "metadata": {},
     "output_type": "execute_result"
    },
    {
     "data": {
      "image/png": "[encoded data removed]",
      "text/plain": [
       "<Figure size 576x432 with 1 Axes>"
      ]
     },
     "metadata": {
      "needs_background": "light"
     },
     "output_type": "display_data"
    }
   ],
   "source": [
    "# Top companies based on the salary offered\n",
    "\n",
    "data.groupby('company')['sal_mid'].mean().sort_values(ascending = False)[:20][::-1].plot.barh(color='teal')\n",
    "plt.xlabel('Salary (1000 $)')"
   ]
  },
  {
   "cell_type": "code",
   "execution_count": 387,
   "metadata": {},
   "outputs": [
    {
     "name": "stdout",
     "output_type": "stream",
     "text": [
      "3.7996545768566494\n",
      "223 65 249\n"
     ]
    },
    {
     "data": {
      "text/plain": [
       "<matplotlib.axes._subplots.AxesSubplot at 0x1cb01889988>"
      ]
     },
     "execution_count": 387,
     "metadata": {},
     "output_type": "execute_result"
    },
    {
     "data": {
      "image/png": "[encoded data removed]",
      "text/plain": [
       "<Figure size 576x432 with 1 Axes>"
      ]
     },
     "metadata": {
      "needs_background": "light"
     },
     "output_type": "display_data"
    }
   ],
   "source": [
    "# No. of jobs in each category\n",
    "\n",
    "job_dict = {}\n",
    "job_dict ={'DS':\"(scientist|science)\",\n",
    "                'DE' : \"(engineer|developer)\",\n",
    "                'DA':\"analyst\"         \n",
    "          }\n",
    "data['DS'] = data['position'].apply(lambda x: len(re.findall(job_dict['DS'],x))>0 )\n",
    "data['DA'] = data['position'].apply(lambda x: len(re.findall(job_dict['DA'],x))>0 )\n",
    "data['DE'] = data['position'].apply(lambda x: len(re.findall(job_dict['DE'],x))>0 )\n",
    "data.shape[0]\n",
    "data.DS.sum(), data.DA.sum(), data.DE.sum()\n",
    "data[data.DS].shape[0], data[data.DA].shape[0], data[data.DE].shape[0]\n",
    "\n",
    "#job title does not include analyst, scientist or engineer\n",
    "data_none  = data[np.logical_and(np.logical_and(data.DS ==False, data.DA ==False), data.DE ==False)]\n",
    "\n",
    "data_DS_only = data[np.logical_and(np.logical_and(data.DE ==False, data.DA ==False), data.DS ==True)]\n",
    "data_DA_only = data[np.logical_and(np.logical_and(data.DS ==False, data.DE ==False), data.DA ==True)]\n",
    "data_DE_only = data[np.logical_and(np.logical_and(data.DS ==False, data.DA ==False), data.DE ==True)]\n",
    "print(data_none.shape[0]/data.shape[0] *100)\n",
    "print(data_DS_only.shape[0], data_DA_only.shape[0], data_DE_only.shape[0])\n",
    "\n",
    "data_none['position'].head(10)\n",
    "\n",
    "data['job_code'] = 100*data.DS + 10*data.DE + data.DA\n",
    "data['job_code'] = data['job_code'].astype('category')\n",
    "data['job_code'] = data['job_code'].cat.rename_categories({\n",
    "    100: 'DataScientist',\n",
    "    10: 'DataEngineer',\n",
    "    1: 'DataAnalyst',\n",
    "    0: 'none',\n",
    "    110:'DS/DE',\n",
    "    101:'DS/DA',\n",
    "    11:'DA/DE',\n",
    "    111:'DS/DA/DE'\n",
    "                }) \n",
    "data['job_code'].value_counts()\n",
    "\n",
    "data['job_code'].value_counts().plot.bar(color ='teal')"
   ]
  },
  {
   "cell_type": "code",
   "execution_count": 388,
   "metadata": {},
   "outputs": [
    {
     "data": {
      "text/plain": [
       "<matplotlib.axes._subplots.AxesSubplot at 0x1cb017d66c8>"
      ]
     },
     "execution_count": 388,
     "metadata": {},
     "output_type": "execute_result"
    },
    {
     "data": {
      "image/png": "[encoded data removed]",
      "text/plain": [
       "<Figure size 576x432 with 1 Axes>"
      ]
     },
     "metadata": {
      "needs_background": "light"
     },
     "output_type": "display_data"
    }
   ],
   "source": [
    "data[['DS','DA','DE']].sum().plot.barh(color ='teal')"
   ]
  },
  {
   "cell_type": "code",
   "execution_count": 302,
   "metadata": {},
   "outputs": [
    {
     "name": "stdout",
     "output_type": "stream",
     "text": [
      "python  :  28\n",
      "r  :  578\n",
      "java  :  4\n",
      "c++  :  0\n",
      "sql  :  6\n",
      "excel  :  113\n",
      "scala  :  133\n",
      "stata  :  0\n",
      "sas  :  9\n",
      "spark  :  17\n",
      "hadoop  :  3\n",
      "cloudera  :  0\n",
      "mongodb  :  0\n",
      "tableau  :  0\n",
      "hive  :  5\n",
      "tensorflow  :  2\n",
      "django  :  0\n",
      "aws  :  32\n",
      "mahout  :  0\n",
      "matlab  :  0\n",
      "cassandra  :  0\n",
      "mapreduce  :  1\n"
     ]
    },
    {
     "data": {
      "text/plain": [
       "Text(0, 0.5, 'Number of jobs')"
      ]
     },
     "execution_count": 302,
     "metadata": {},
     "output_type": "execute_result"
    },
    {
     "data": {
      "image/png": "[encoded data removed]",
      "text/plain": [
       "<Figure size 576x432 with 1 Axes>"
      ]
     },
     "metadata": {
      "needs_background": "light"
     },
     "output_type": "display_data"
    }
   ],
   "source": [
    "data.description.head()\n",
    "data['description'].apply(lambda x: \"hadoop\" in x).head()\n",
    "data['description'].apply(lambda x: \"hadoop\" in x).sum()\n",
    "data['description'].apply(lambda x: \"hadoop\"  not in x).sum()\n",
    "\n",
    "def tool_freq(tool):\n",
    "    return data['description'].apply(lambda x: tool in x).sum()\n",
    "\n",
    "tools = ['python','r','java','c++','sql','excel','scala','stata','sas','spark','hadoop',\n",
    "         'cloudera','mongodb','tableau','hive','tensorflow','django','aws','mahout','matlab','cassandra','mapreduce'] #'bokeh','clojure'\n",
    "\n",
    "skill_dict = {}\n",
    "for tool in tools:\n",
    "    print(tool,' : ',tool_freq(tool))\n",
    "    skill_dict[tool] = tool_freq(tool)\n",
    "    \n",
    "skill_dict\n",
    "\n",
    "data_job = pd.DataFrame.from_dict(skill_dict, orient='index')\n",
    "data_job.columns = ['frequency']\n",
    "data_job.head()\n",
    "\n",
    "dummy = data_job.sort_values(by ='frequency', ascending = False).plot(kind ='bar', color ='teal')\n",
    "plt.ylabel('Number of jobs')"
   ]
  },
  {
   "cell_type": "code",
   "execution_count": 382,
   "metadata": {},
   "outputs": [
    {
     "name": "stdout",
     "output_type": "stream",
     "text": [
      "bs  :  170\n",
      "b.s.  :  0\n",
      "bsc  :  30\n",
      "b.s.c  :  0\n",
      "b.sc.  :  0\n",
      "ba  :  530\n",
      "b.a.  :  0\n",
      "Bachelors  :  40\n",
      "undergrad  :  3\n",
      "undergraduate  :  3\n",
      "associate  :  30\n",
      "ms  :  533\n",
      "m.s.  :  0\n",
      "msc  :  1\n",
      "m.s.c  :  0\n",
      "m.sc.  :  0\n",
      "ma  :  567\n",
      "m.a.  :  0\n",
      "master  :  34\n",
      "Masters  :  52\n",
      "graduate  :  22\n",
      "phd  :  0\n",
      "ph.d.  :  0\n",
      "ph.d  :  0\n",
      "advanced  :  126\n",
      "doctoral  :  4\n",
      "doctorate  :  1\n",
      "post-graduate  :  0\n"
     ]
    }
   ],
   "source": [
    "edus = ['bs','b.s.','bsc','b.s.c','b.sc.','ba','b.a.','Bachelors','undergrad','undergraduate','associate',\n",
    "       'ms','m.s.','msc','m.s.c','m.sc.','ma','m.a.','master','Masters','graduate',\n",
    "       'phd','ph.d.','ph.d','advanced','doctoral','doctorate','post-graduate']\n",
    "\n",
    "edu_dict = {}\n",
    "for edu in edus:\n",
    "    print(edu,' : ',tool_freq(edu))\n",
    "    edu_dict[edu] = tool_freq(edu)"
   ]
  },
  {
   "cell_type": "code",
   "execution_count": 384,
   "metadata": {},
   "outputs": [
    {
     "name": "stdout",
     "output_type": "stream",
     "text": [
      "python  :  28\n",
      "r  :  578\n",
      "java  :  4\n",
      "c++  :  0\n",
      "sql  :  6\n",
      "excel  :  113\n",
      "scala  :  133\n",
      "stata  :  0\n",
      "sas  :  9\n",
      "spark  :  17\n",
      "hadoop  :  3\n",
      "cloudera  :  0\n",
      "mongodb  :  0\n",
      "tableau  :  0\n",
      "hive  :  5\n",
      "tensorflow  :  2\n",
      "django  :  0\n",
      "aws  :  32\n",
      "mahout  :  0\n",
      "matlab  :  0\n",
      "cassandra  :  0\n",
      "mapreduce  :  1\n"
     ]
    },
    {
     "data": {
      "text/plain": [
       "Text(0, 0.5, 'Number of jobs')"
      ]
     },
     "execution_count": 384,
     "metadata": {},
     "output_type": "execute_result"
    },
    {
     "data": {
      "image/png": "[encoded data removed]",
      "text/plain": [
       "<Figure size 576x432 with 1 Axes>"
      ]
     },
     "metadata": {
      "needs_background": "light"
     },
     "output_type": "display_data"
    }
   ],
   "source": [
    "data.description.head()\n",
    "data['description'].apply(lambda x: \"hadoop\" in x).head()\n",
    "data['description'].apply(lambda x: \"hadoop\" in x).sum()\n",
    "data['description'].apply(lambda x: \"hadoop\"  not in x).sum()\n",
    "\n",
    "def tool_freq(tool):\n",
    "    return data['description'].apply(lambda x: tool in x).sum()\n",
    "\n",
    "tools = ['python','r','java','c++','sql','excel','scala','stata','sas','spark','hadoop',\n",
    "         'cloudera','mongodb','tableau','hive','tensorflow','django','aws','mahout','matlab','cassandra','mapreduce'] #'bokeh','clojure'\n",
    "\n",
    "skill_dict = {}\n",
    "for tool in tools:\n",
    "    print(tool,' : ',tool_freq(tool))\n",
    "    skill_dict[tool] = tool_freq(tool)\n",
    "    \n",
    "skill_dict\n",
    "\n",
    "df_job = pd.DataFrame.from_dict(skill_dict, orient='index')\n",
    "df_job.columns = ['frequency']\n",
    "df_job.head()\n",
    "\n",
    "dummy = df_job.sort_values(by ='frequency', ascending = False).plot(kind ='bar', color ='teal')\n",
    "plt.ylabel('Number of jobs')"
   ]
  },
  {
   "cell_type": "code",
   "execution_count": 6,
   "metadata": {},
   "outputs": [
    {
     "data": {
      "text/plain": [
       "job_state_code\n",
       "MA    0.56\n",
       "MI    0.56\n",
       "NY    0.68\n",
       "TX    0.46\n",
       "Name: rating, dtype: float64"
      ]
     },
     "execution_count": 6,
     "metadata": {},
     "output_type": "execute_result"
    }
   ],
   "source": [
    "#Finding mean, median, standard deviation, minimum and maximum for all numeric variables in our data\n",
    "#Numerical Variable 1 : rating\n",
    "round(data.groupby('job_state_code')['rating'].mean(),2)"
   ]
  },
  {
   "cell_type": "code",
   "execution_count": 7,
   "metadata": {},
   "outputs": [
    {
     "data": {
      "text/plain": [
       "job_state_code\n",
       "MA    3.7\n",
       "MI    3.9\n",
       "NY    3.8\n",
       "TX    4.0\n",
       "Name: rating, dtype: float64"
      ]
     },
     "execution_count": 7,
     "metadata": {},
     "output_type": "execute_result"
    }
   ],
   "source": [
    "round(data.groupby('job_state_code')['rating'].median(),2)"
   ]
  },
  {
   "cell_type": "code",
   "execution_count": 8,
   "metadata": {},
   "outputs": [
    {
     "data": {
      "text/plain": [
       "job_state_code\n",
       "MA    5.0\n",
       "MI    5.0\n",
       "NY    5.0\n",
       "TX    5.0\n",
       "Name: rating, dtype: float64"
      ]
     },
     "execution_count": 8,
     "metadata": {},
     "output_type": "execute_result"
    }
   ],
   "source": [
    "round(data.groupby('job_state_code')['rating'].max(),2)"
   ]
  },
  {
   "cell_type": "code",
   "execution_count": 9,
   "metadata": {},
   "outputs": [
    {
     "data": {
      "text/plain": [
       "job_state_code\n",
       "MA    2.6\n",
       "MI    2.3\n",
       "NY    0.0\n",
       "TX    3.0\n",
       "Name: rating, dtype: float64"
      ]
     },
     "execution_count": 9,
     "metadata": {},
     "output_type": "execute_result"
    }
   ],
   "source": [
    "round(data.groupby('job_state_code')['rating'].min(),2)"
   ]
  },
  {
   "cell_type": "code",
   "execution_count": 10,
   "metadata": {},
   "outputs": [
    {
     "data": {
      "text/plain": [
       "job_state_code\n",
       "MA    0.56\n",
       "MI    0.56\n",
       "NY    0.68\n",
       "TX    0.46\n",
       "Name: rating, dtype: float64"
      ]
     },
     "execution_count": 10,
     "metadata": {},
     "output_type": "execute_result"
    }
   ],
   "source": [
    "round(data.groupby('job_state_code')['rating'].std(),2)"
   ]
  },
  {
   "cell_type": "code",
   "execution_count": 12,
   "metadata": {},
   "outputs": [
    {
     "data": {
      "text/plain": [
       "job_state_code\n",
       "MA    81.17\n",
       "MI    69.86\n",
       "NY    91.99\n",
       "TX    90.68\n",
       "Name: sal_low, dtype: float64"
      ]
     },
     "execution_count": 12,
     "metadata": {},
     "output_type": "execute_result"
    }
   ],
   "source": [
    "#Numerical Variable 2 : sal_low\n",
    "round(data.groupby('job_state_code')['sal_low'].mean(),2)"
   ]
  },
  {
   "cell_type": "code",
   "execution_count": 13,
   "metadata": {},
   "outputs": [
    {
     "data": {
      "text/plain": [
       "job_state_code\n",
       "MA    81.17\n",
       "MI    69.86\n",
       "NY    91.99\n",
       "TX    90.68\n",
       "Name: sal_low, dtype: float64"
      ]
     },
     "execution_count": 13,
     "metadata": {},
     "output_type": "execute_result"
    }
   ],
   "source": [
    "round(data.groupby('job_state_code')['sal_low'].median(),2)"
   ]
  },
  {
   "cell_type": "code",
   "execution_count": 14,
   "metadata": {},
   "outputs": [
    {
     "data": {
      "text/plain": [
       "job_state_code\n",
       "MA    126.0\n",
       "MI    106.0\n",
       "NY    154.0\n",
       "TX    142.0\n",
       "Name: sal_low, dtype: float64"
      ]
     },
     "execution_count": 14,
     "metadata": {},
     "output_type": "execute_result"
    }
   ],
   "source": [
    "round(data.groupby('job_state_code')['sal_low'].max(),2)"
   ]
  },
  {
   "cell_type": "code",
   "execution_count": 15,
   "metadata": {},
   "outputs": [
    {
     "data": {
      "text/plain": [
       "job_state_code\n",
       "MA    44.0\n",
       "MI    35.0\n",
       "NY    41.0\n",
       "TX    37.0\n",
       "Name: sal_low, dtype: float64"
      ]
     },
     "execution_count": 15,
     "metadata": {},
     "output_type": "execute_result"
    }
   ],
   "source": [
    "round(data.groupby('job_state_code')['sal_low'].min(),2)"
   ]
  },
  {
   "cell_type": "code",
   "execution_count": 16,
   "metadata": {},
   "outputs": [
    {
     "data": {
      "text/plain": [
       "job_state_code\n",
       "MA    15.85\n",
       "MI    14.31\n",
       "NY    17.94\n",
       "TX    23.12\n",
       "Name: sal_low, dtype: float64"
      ]
     },
     "execution_count": 16,
     "metadata": {},
     "output_type": "execute_result"
    }
   ],
   "source": [
    "round(data.groupby('job_state_code')['sal_low'].std(),2)"
   ]
  },
  {
   "cell_type": "code",
   "execution_count": 17,
   "metadata": {},
   "outputs": [
    {
     "data": {
      "text/plain": [
       "job_state_code\n",
       "MA    115.70\n",
       "MI    103.72\n",
       "NY    132.06\n",
       "TX    122.53\n",
       "Name: sal_high, dtype: float64"
      ]
     },
     "execution_count": 17,
     "metadata": {},
     "output_type": "execute_result"
    }
   ],
   "source": [
    "#Numeric variable 3 : sal_high\n",
    "round(data.groupby('job_state_code')['sal_high'].mean(),2)"
   ]
  },
  {
   "cell_type": "code",
   "execution_count": 18,
   "metadata": {},
   "outputs": [
    {
     "data": {
      "text/plain": [
       "job_state_code\n",
       "MA    115.70\n",
       "MI    103.72\n",
       "NY    132.06\n",
       "TX    122.53\n",
       "Name: sal_high, dtype: float64"
      ]
     },
     "execution_count": 18,
     "metadata": {},
     "output_type": "execute_result"
    }
   ],
   "source": [
    "round(data.groupby('job_state_code')['sal_high'].median(),2)"
   ]
  },
  {
   "cell_type": "code",
   "execution_count": 19,
   "metadata": {},
   "outputs": [
    {
     "data": {
      "text/plain": [
       "job_state_code\n",
       "MA    171.0\n",
       "MI    161.0\n",
       "NY    243.0\n",
       "TX    183.0\n",
       "Name: sal_high, dtype: float64"
      ]
     },
     "execution_count": 19,
     "metadata": {},
     "output_type": "execute_result"
    }
   ],
   "source": [
    "round(data.groupby('job_state_code')['sal_high'].max(),2)"
   ]
  },
  {
   "cell_type": "code",
   "execution_count": 20,
   "metadata": {},
   "outputs": [
    {
     "data": {
      "text/plain": [
       "job_state_code\n",
       "MA    67.0\n",
       "MI    58.0\n",
       "NY    69.0\n",
       "TX    59.0\n",
       "Name: sal_high, dtype: float64"
      ]
     },
     "execution_count": 20,
     "metadata": {},
     "output_type": "execute_result"
    }
   ],
   "source": [
    "round(data.groupby('job_state_code')['sal_high'].min(),2)"
   ]
  },
  {
   "cell_type": "code",
   "execution_count": 21,
   "metadata": {},
   "outputs": [
    {
     "data": {
      "text/plain": [
       "job_state_code\n",
       "MA    20.78\n",
       "MI    19.33\n",
       "NY    23.41\n",
       "TX    27.98\n",
       "Name: sal_high, dtype: float64"
      ]
     },
     "execution_count": 21,
     "metadata": {},
     "output_type": "execute_result"
    }
   ],
   "source": [
    "round(data.groupby('job_state_code')['sal_high'].std(),2)"
   ]
  },
  {
   "cell_type": "code",
   "execution_count": 27,
   "metadata": {},
   "outputs": [],
   "source": [
    "#Numerical variable 4 : size\n",
    "round(data.groupby('job_state_code')['size'].mean(),2)"
   ]
  },
  {
   "cell_type": "code",
   "execution_count": 23,
   "metadata": {},
   "outputs": [
    {
     "data": {
      "text/plain": [
       "job_state_code\n",
       "MA    1000\n",
       "MI    1000\n",
       "NY    1000\n",
       "TX    1000\n",
       "Name: size, dtype: int64"
      ]
     },
     "execution_count": 23,
     "metadata": {},
     "output_type": "execute_result"
    }
   ],
   "source": [
    "round(data.groupby('job_state_code')['size'].median(),2)"
   ]
  },
  {
   "cell_type": "code",
   "execution_count": 24,
   "metadata": {},
   "outputs": [
    {
     "data": {
      "text/plain": [
       "job_state_code\n",
       "MA    10000\n",
       "MI    10000\n",
       "NY    10000\n",
       "TX    10000\n",
       "Name: size, dtype: int64"
      ]
     },
     "execution_count": 24,
     "metadata": {},
     "output_type": "execute_result"
    }
   ],
   "source": [
    "round(data.groupby('job_state_code')['size'].max(),2)"
   ]
  },
  {
   "cell_type": "code",
   "execution_count": 25,
   "metadata": {},
   "outputs": [
    {
     "data": {
      "text/plain": [
       "job_state_code\n",
       "MA    50\n",
       "MI    50\n",
       "NY    50\n",
       "TX    50\n",
       "Name: size, dtype: int64"
      ]
     },
     "execution_count": 25,
     "metadata": {},
     "output_type": "execute_result"
    }
   ],
   "source": [
    "round(data.groupby('job_state_code')['size'].min(),2)"
   ]
  },
  {
   "cell_type": "code",
   "execution_count": 26,
   "metadata": {},
   "outputs": [
    {
     "data": {
      "text/plain": [
       "job_state_code\n",
       "MA    3820.80\n",
       "MI    4446.35\n",
       "NY    4075.33\n",
       "TX    3914.00\n",
       "Name: size, dtype: float64"
      ]
     },
     "execution_count": 26,
     "metadata": {},
     "output_type": "execute_result"
    }
   ],
   "source": [
    "round(data.groupby('job_state_code')['size'].std(),2)"
   ]
  },
  {
   "cell_type": "code",
   "execution_count": 34,
   "metadata": {},
   "outputs": [
    {
     "data": {
      "text/plain": [
       "<matplotlib.axes._subplots.AxesSubplot at 0x2206c9faa90>"
      ]
     },
     "execution_count": 34,
     "metadata": {},
     "output_type": "execute_result"
    },
    {
     "data": {
      "image/png": "[encoded data removed]",
      "text/plain": [
       "<Figure size 432x288 with 1 Axes>"
      ]
     },
     "metadata": {
      "needs_background": "light"
     },
     "output_type": "display_data"
    }
   ],
   "source": [
    "#Histograms of numeric variables\n",
    "#Numerical variable 1: Rating\n",
    "plt.xlabel('Rating')\n",
    "data['rating'].plot.hist(alpha=0.5, color=\"teal\")"
   ]
  },
  {
   "cell_type": "code",
   "execution_count": 35,
   "metadata": {},
   "outputs": [
    {
     "data": {
      "text/plain": [
       "<matplotlib.axes._subplots.AxesSubplot at 0x2206ca5f208>"
      ]
     },
     "execution_count": 35,
     "metadata": {},
     "output_type": "execute_result"
    },
    {
     "data": {
      "image/png": "[encoded data removed]",
      "text/plain": [
       "<Figure size 432x288 with 1 Axes>"
      ]
     },
     "metadata": {
      "needs_background": "light"
     },
     "output_type": "display_data"
    }
   ],
   "source": [
    "plt.xlabel('Minimum Salary')\n",
    "data['sal_low'].plot.hist(alpha=0.5,color=\"teal\")"
   ]
  },
  {
   "cell_type": "code",
   "execution_count": 36,
   "metadata": {},
   "outputs": [
    {
     "data": {
      "text/plain": [
       "<matplotlib.axes._subplots.AxesSubplot at 0x2206cadf2e8>"
      ]
     },
     "execution_count": 36,
     "metadata": {},
     "output_type": "execute_result"
    },
    {
     "data": {
      "image/png": "[encoded data removed]",
      "text/plain": [
       "<Figure size 432x288 with 1 Axes>"
      ]
     },
     "metadata": {
      "needs_background": "light"
     },
     "output_type": "display_data"
    }
   ],
   "source": [
    "plt.xlabel('Maximum Salary')\n",
    "data['sal_high'].plot.hist(alpha=0.5,color=\"teal\")"
   ]
  },
  {
   "cell_type": "code",
   "execution_count": 37,
   "metadata": {},
   "outputs": [
    {
     "data": {
      "text/plain": [
       "<matplotlib.axes._subplots.AxesSubplot at 0x2206cb4dc88>"
      ]
     },
     "execution_count": 37,
     "metadata": {},
     "output_type": "execute_result"
    },
    {
     "data": {
      "image/png": "[encoded data removed]",
      "text/plain": [
       "<Figure size 432x288 with 1 Axes>"
      ]
     },
     "metadata": {
      "needs_background": "light"
     },
     "output_type": "display_data"
    }
   ],
   "source": [
    "plt.xlabel('Company size')\n",
    "data['size'].plot.hist(alpha=0.5,color=\"teal\")"
   ]
  },
  {
   "cell_type": "code",
   "execution_count": 41,
   "metadata": {},
   "outputs": [
    {
     "data": {
      "text/plain": [
       "<matplotlib.axes._subplots.AxesSubplot at 0x2206cd712b0>"
      ]
     },
     "execution_count": 41,
     "metadata": {},
     "output_type": "execute_result"
    },
    {
     "data": {
      "image/png": "[encoded data removed]",
      "text/plain": [
       "<Figure size 432x288 with 1 Axes>"
      ]
     },
     "metadata": {
      "needs_background": "light"
     },
     "output_type": "display_data"
    }
   ],
   "source": [
    "data.plot.scatter(x='size', y='rating')"
   ]
  }
 ],
 "metadata": {
  "kernelspec": {
   "display_name": "Python 3",
   "language": "python",
   "name": "python3"
  },
  "language_info": {
   "codemirror_mode": {
    "name": "ipython",
    "version": 3
   },
   "file_extension": ".py",
   "mimetype": "text/x-python",
   "name": "python",
   "nbconvert_exporter": "python",
   "pygments_lexer": "ipython3",
   "version": "3.7.3"
  }
 },
 "nbformat": 4,
 "nbformat_minor": 2
}
